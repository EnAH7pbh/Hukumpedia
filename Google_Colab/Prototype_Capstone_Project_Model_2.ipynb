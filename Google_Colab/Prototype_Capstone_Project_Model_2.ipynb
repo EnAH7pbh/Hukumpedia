{
  "nbformat": 4,
  "nbformat_minor": 0,
  "metadata": {
    "accelerator": "GPU",
    "colab": {
      "name": "Prototype Capstone Project Model 2.ipynb",
      "provenance": [],
      "toc_visible": true,
      "machine_shape": "hm",
      "include_colab_link": true
    },
    "kernelspec": {
      "display_name": "Python 3",
      "name": "python3"
    }
  },
  "cells": [
    {
      "cell_type": "markdown",
      "metadata": {
        "id": "view-in-github",
        "colab_type": "text"
      },
      "source": [
        "<a href=\"https://colab.research.google.com/github/ahmadcah/Hukumpedia/blob/master/Google_Colab/Prototype_Capstone_Project_Model_2.ipynb\" target=\"_parent\"><img src=\"https://colab.research.google.com/assets/colab-badge.svg\" alt=\"Open In Colab\"/></a>"
      ]
    },
    {
      "cell_type": "code",
      "metadata": {
        "colab": {
          "base_uri": "https://localhost:8080/"
        },
        "id": "COlouE3oMQj3",
        "outputId": "404a45d0-1e84-426e-9345-602e4f87c11b"
      },
      "source": [
        "from google.colab import drive\n",
        "drive.mount('/content/drive')"
      ],
      "execution_count": 1,
      "outputs": [
        {
          "output_type": "stream",
          "text": [
            "Mounted at /content/drive\n"
          ],
          "name": "stdout"
        }
      ]
    },
    {
      "cell_type": "code",
      "metadata": {
        "id": "BOwsuGQQY9OL"
      },
      "source": [
        "from tensorflow.keras.preprocessing.sequence import pad_sequences\n",
        "from tensorflow.keras.layers import Embedding, LSTM, Dense, Dropout, Bidirectional\n",
        "from tensorflow.keras.preprocessing.text import Tokenizer\n",
        "from tensorflow.keras.models import Sequential\n",
        "import tensorflow as tf\n",
        "import numpy as np \n",
        "import string"
      ],
      "execution_count": null,
      "outputs": []
    },
    {
      "cell_type": "code",
      "metadata": {
        "colab": {
          "base_uri": "https://localhost:8080/",
          "height": 73
        },
        "id": "HaVBgWGCI1FS",
        "outputId": "2dbe9fe5-8b72-45a1-db2a-f6adec7e8d09"
      },
      "source": [
        "realCorpus = []\n",
        "with open('/content/drive/MyDrive/MergedData.txt', 'rb') as f:\n",
        "  data = ' '.join([x.decode('utf-8') for x in f.readlines()])\n",
        "  data = data.replace('“”', '')\n",
        "  data = ' '.join(i for i in data.split())\n",
        "data[:400]"
      ],
      "execution_count": null,
      "outputs": [
        {
          "output_type": "execute_result",
          "data": {
            "application/vnd.google.colaboratory.intrinsic+json": {
              "type": "string"
            },
            "text/plain": [
              "'DEKLARASI UNIVERSAL HAK-HAK ASASI MANUSIA Diterima dan diumumkan oleh Majelis Umum PBB pada tanggal 10 Desember 1948 melalui resolusi 217 A (III) Mukadimah Menimbang, bahwa pengakuan atas martabat alamiah dan hak-hak yang sama dan tidak dapat dicabut dari semua anggota keluarga manusia adalah dasar kemerdekaan, keadilan dan perdamaian di dunia, Menimbang, bahwa mengabaikan dan memandang rendah hak'"
            ]
          },
          "metadata": {
            "tags": []
          },
          "execution_count": 4
        }
      ]
    },
    {
      "cell_type": "code",
      "metadata": {
        "id": "nftEC_7nrEPI"
      },
      "source": [
        "translator = str.maketrans(string.punctuation, ' '*len(string.punctuation))\n",
        "data = data.translate(translator)"
      ],
      "execution_count": null,
      "outputs": []
    },
    {
      "cell_type": "code",
      "metadata": {
        "colab": {
          "base_uri": "https://localhost:8080/",
          "height": 92
        },
        "id": "fd96PowV-PPp",
        "outputId": "1d90b796-948f-4bf1-9647-8364733c0f4c"
      },
      "source": [
        "z = []\n",
        "\n",
        "for i in data.split():\n",
        "    if i not in z:\n",
        "        z.append(i)\n",
        "        \n",
        "data = ' '.join(z)\n",
        "data[:500]"
      ],
      "execution_count": null,
      "outputs": [
        {
          "output_type": "execute_result",
          "data": {
            "application/vnd.google.colaboratory.intrinsic+json": {
              "type": "string"
            },
            "text/plain": [
              "'DEKLARASI UNIVERSAL HAK ASASI MANUSIA Diterima dan diumumkan oleh Majelis Umum PBB pada tanggal 10 Desember 1948 melalui resolusi 217 A III Mukadimah Menimbang bahwa pengakuan atas martabat alamiah hak yang sama tidak dapat dicabut dari semua anggota keluarga manusia adalah dasar kemerdekaan keadilan perdamaian di dunia mengabaikan memandang rendah telah mengakibatkan perbuatan bengis menimbulkan rasa kemarahan hati nurani umat terbentuknya suatu tempat akan mengecap nikmat kebebasan berbicara b'"
            ]
          },
          "metadata": {
            "tags": []
          },
          "execution_count": 6
        }
      ]
    },
    {
      "cell_type": "code",
      "metadata": {
        "id": "ryZKOLYcfB4n"
      },
      "source": [
        "tokenizer = Tokenizer(oov_token='oov')\n",
        "tokenizer.fit_on_texts([data])"
      ],
      "execution_count": null,
      "outputs": []
    },
    {
      "cell_type": "code",
      "metadata": {
        "colab": {
          "base_uri": "https://localhost:8080/"
        },
        "id": "61kNwbw4oEkM",
        "outputId": "7e228449-ddf9-430d-a526-19ec2ec31411"
      },
      "source": [
        "total_words = len(tokenizer.word_index) + 1\n",
        "print(total_words)"
      ],
      "execution_count": null,
      "outputs": [
        {
          "output_type": "stream",
          "text": [
            "17581\n"
          ],
          "name": "stdout"
        }
      ]
    },
    {
      "cell_type": "code",
      "metadata": {
        "id": "ehwWjoUcfkJt"
      },
      "source": [
        "import pickle\n",
        "\n",
        "with open('/content/drive/MyDrive/Bangkit Capstone/tokenizer.pickle', 'wb') as handle:\n",
        "    pickle.dump(tokenizer, handle, protocol=pickle.HIGHEST_PROTOCOL)"
      ],
      "execution_count": null,
      "outputs": []
    },
    {
      "cell_type": "code",
      "metadata": {
        "id": "tjSalMXUf8aD"
      },
      "source": [
        "import io,json\n",
        "\n",
        "tokenizer_json = tokenizer.to_json()\n",
        "with io.open('/content/drive/MyDrive/Bangkit Capstone/tokenizer.json', 'w', encoding='utf-8') as f:\n",
        "    f.write(json.dumps(tokenizer_json, ensure_ascii=False))"
      ],
      "execution_count": null,
      "outputs": []
    },
    {
      "cell_type": "code",
      "metadata": {
        "colab": {
          "base_uri": "https://localhost:8080/"
        },
        "id": "Lgnv3x419uOK",
        "outputId": "1b300e36-46a4-43e0-c204-572ecbc469d5"
      },
      "source": [
        "sequence_data = tokenizer.texts_to_sequences([data])[0]\n",
        "sequence_data[:10]"
      ],
      "execution_count": null,
      "outputs": [
        {
          "output_type": "execute_result",
          "data": {
            "text/plain": [
              "[4, 5, 6, 7, 8, 660, 9, 661, 662, 10]"
            ]
          },
          "metadata": {
            "tags": []
          },
          "execution_count": 11
        }
      ]
    },
    {
      "cell_type": "code",
      "metadata": {
        "colab": {
          "base_uri": "https://localhost:8080/"
        },
        "id": "P81pOpZypb8g",
        "outputId": "4dbe2a51-112d-4274-f81f-01752e9fd5af"
      },
      "source": [
        "sequences = []\n",
        "\n",
        "for i in range(1, len(sequence_data)):\n",
        "    words = sequence_data[i-1:i+1]\n",
        "    sequences.append(words)\n",
        "    \n",
        "print(\"The Length of sequences are: \", len(sequences))\n",
        "sequences = np.array(sequences)\n",
        "sequences[:10]"
      ],
      "execution_count": null,
      "outputs": [
        {
          "output_type": "stream",
          "text": [
            "The Length of sequences are:  20880\n"
          ],
          "name": "stdout"
        },
        {
          "output_type": "execute_result",
          "data": {
            "text/plain": [
              "array([[  4,   5],\n",
              "       [  5,   6],\n",
              "       [  6,   7],\n",
              "       [  7,   8],\n",
              "       [  8, 660],\n",
              "       [660,   9],\n",
              "       [  9, 661],\n",
              "       [661, 662],\n",
              "       [662,  10],\n",
              "       [ 10,  11]])"
            ]
          },
          "metadata": {
            "tags": []
          },
          "execution_count": 12
        }
      ]
    },
    {
      "cell_type": "code",
      "metadata": {
        "id": "83qq2MaYpfOc"
      },
      "source": [
        "X = []\n",
        "y = []\n",
        "\n",
        "for i in sequences:\n",
        "    X.append(i[0])\n",
        "    y.append(i[1])\n",
        "    \n",
        "predictors = np.array(X)\n",
        "label = np.array(y)"
      ],
      "execution_count": null,
      "outputs": []
    },
    {
      "cell_type": "code",
      "metadata": {
        "id": "WAhOMo3opfwR"
      },
      "source": [
        "label = tf.keras.utils.to_categorical(label, num_classes=total_words)"
      ],
      "execution_count": null,
      "outputs": []
    },
    {
      "cell_type": "code",
      "metadata": {
        "id": "w9vH8Y59ajYL",
        "colab": {
          "base_uri": "https://localhost:8080/"
        },
        "outputId": "6cb2ba74-20ae-4e44-fb8c-10f2caf4e9aa"
      },
      "source": [
        "model = Sequential()\n",
        "model.add(Embedding(total_words, 250, input_length=1))\n",
        "model.add(Bidirectional(LSTM(500, return_sequences=True)))\n",
        "model.add(Bidirectional(LSTM(500)))\n",
        "model.add(Dropout(0.2))\n",
        "model.add(Dense(1000, activation=\"relu\"))\n",
        "model.add(Dense(total_words, activation='softmax'))\n",
        "model.compile(loss='categorical_crossentropy', optimizer='adam', metrics='accuracy')\n",
        "print(model.summary())"
      ],
      "execution_count": null,
      "outputs": [
        {
          "output_type": "stream",
          "text": [
            "Model: \"sequential_1\"\n",
            "_________________________________________________________________\n",
            "Layer (type)                 Output Shape              Param #   \n",
            "=================================================================\n",
            "embedding_1 (Embedding)      (None, 1, 250)            4395250   \n",
            "_________________________________________________________________\n",
            "bidirectional_2 (Bidirection (None, 1, 1000)           3004000   \n",
            "_________________________________________________________________\n",
            "bidirectional_3 (Bidirection (None, 1000)              6004000   \n",
            "_________________________________________________________________\n",
            "dropout_1 (Dropout)          (None, 1000)              0         \n",
            "_________________________________________________________________\n",
            "dense_2 (Dense)              (None, 1000)              1001000   \n",
            "_________________________________________________________________\n",
            "dense_3 (Dense)              (None, 17581)             17598581  \n",
            "=================================================================\n",
            "Total params: 32,002,831\n",
            "Trainable params: 32,002,831\n",
            "Non-trainable params: 0\n",
            "_________________________________________________________________\n",
            "None\n"
          ],
          "name": "stdout"
        }
      ]
    },
    {
      "cell_type": "code",
      "metadata": {
        "colab": {
          "base_uri": "https://localhost:8080/",
          "height": 661
        },
        "id": "UTVoj0q8iDI6",
        "outputId": "26e08f1f-11d6-40e8-a8be-85a7f32d9e1a"
      },
      "source": [
        "tf.keras.utils.plot_model(model, to_file='/content/drive/MyDrive/Bangkit Capstone/model.png', show_layer_names=True)"
      ],
      "execution_count": null,
      "outputs": [
        {
          "output_type": "execute_result",
          "data": {
            "image/png": "[encoded data removed]",
            "text/plain": [
              "<IPython.core.display.Image object>"
            ]
          },
          "metadata": {
            "tags": []
          },
          "execution_count": 18
        }
      ]
    },
    {
      "cell_type": "code",
      "metadata": {
        "id": "8fZJ6y9GfTDk"
      },
      "source": [
        "class myCallback(tf.keras.callbacks.Callback):\n",
        "  def on_epoch_end(self, epoch, logs={}):\n",
        "    if(logs.get('accuracy')>0.98):\n",
        "      self.model.stop_training = True\n",
        "\n",
        "#checkpoint = tf.keras.callbacks.ModelCheckpoint(\"/content/drive/MyDrive/Bangkit Capstone/checkpoint/model\", monitor='loss', verbose=1,save_best_only=True, mode='auto')\n",
        "\n",
        "reduceLoss = tf.keras.callbacks.ReduceLROnPlateau(monitor='loss', factor=0.2, patience=3, min_lr=0.0001, verbose = 1)\n",
        "callbacksEarlyStopping = tf.keras.callbacks.EarlyStopping(monitor='loss', patience=5)\n",
        "preventOverfit = myCallback()"
      ],
      "execution_count": null,
      "outputs": []
    },
    {
      "cell_type": "code",
      "metadata": {
        "id": "AIg2f1HBxqof",
        "colab": {
          "base_uri": "https://localhost:8080/"
        },
        "outputId": "c489fd31-e882-4671-f837-3a3aa6907d3f"
      },
      "source": [
        "history = model.fit(predictors, label, epochs=500, verbose=1, callbacks=[preventOverfit,callbacksEarlyStopping,reduceLoss])"
      ],
      "execution_count": null,
      "outputs": [
        {
          "output_type": "stream",
          "text": [
            "Epoch 1/500\n",
            "653/653 [==============================] - 26s 33ms/step - loss: 9.8597 - accuracy: 0.0000e+00\n",
            "Epoch 2/500\n",
            "653/653 [==============================] - 21s 33ms/step - loss: 9.7085 - accuracy: 4.7893e-05\n",
            "Epoch 3/500\n",
            "653/653 [==============================] - 21s 33ms/step - loss: 9.5676 - accuracy: 4.3103e-04\n",
            "Epoch 4/500\n",
            "653/653 [==============================] - 21s 33ms/step - loss: 9.2418 - accuracy: 9.5785e-04\n",
            "Epoch 5/500\n",
            "653/653 [==============================] - 21s 33ms/step - loss: 8.8714 - accuracy: 0.0034\n",
            "Epoch 6/500\n",
            "653/653 [==============================] - 21s 33ms/step - loss: 8.5034 - accuracy: 0.0059\n",
            "Epoch 7/500\n",
            "653/653 [==============================] - 21s 33ms/step - loss: 8.1692 - accuracy: 0.0112\n",
            "Epoch 8/500\n",
            "653/653 [==============================] - 21s 33ms/step - loss: 7.8842 - accuracy: 0.0182\n",
            "Epoch 9/500\n",
            "653/653 [==============================] - 21s 33ms/step - loss: 7.6393 - accuracy: 0.0264\n",
            "Epoch 10/500\n",
            "653/653 [==============================] - 21s 33ms/step - loss: 7.4041 - accuracy: 0.0373\n",
            "Epoch 11/500\n",
            "653/653 [==============================] - 21s 33ms/step - loss: 7.1825 - accuracy: 0.0512\n",
            "Epoch 12/500\n",
            "653/653 [==============================] - 21s 33ms/step - loss: 6.9701 - accuracy: 0.0628\n",
            "Epoch 13/500\n",
            "653/653 [==============================] - 21s 33ms/step - loss: 6.7807 - accuracy: 0.0773\n",
            "Epoch 14/500\n",
            "653/653 [==============================] - 21s 33ms/step - loss: 6.5948 - accuracy: 0.0928\n",
            "Epoch 15/500\n",
            "653/653 [==============================] - 21s 33ms/step - loss: 6.4313 - accuracy: 0.1057\n",
            "Epoch 16/500\n",
            "653/653 [==============================] - 21s 33ms/step - loss: 6.2754 - accuracy: 0.1160\n",
            "Epoch 17/500\n",
            "653/653 [==============================] - 22s 33ms/step - loss: 6.1337 - accuracy: 0.1296\n",
            "Epoch 18/500\n",
            "653/653 [==============================] - 21s 33ms/step - loss: 5.9918 - accuracy: 0.1427\n",
            "Epoch 19/500\n",
            "653/653 [==============================] - 21s 33ms/step - loss: 5.8774 - accuracy: 0.1542\n",
            "Epoch 20/500\n",
            "653/653 [==============================] - 21s 33ms/step - loss: 5.7569 - accuracy: 0.1666\n",
            "Epoch 21/500\n",
            "653/653 [==============================] - 21s 33ms/step - loss: 5.6302 - accuracy: 0.1794\n",
            "Epoch 22/500\n",
            "653/653 [==============================] - 21s 33ms/step - loss: 5.5181 - accuracy: 0.1897\n",
            "Epoch 23/500\n",
            "653/653 [==============================] - 21s 33ms/step - loss: 5.3865 - accuracy: 0.2047\n",
            "Epoch 24/500\n",
            "653/653 [==============================] - 21s 33ms/step - loss: 5.2504 - accuracy: 0.2141\n",
            "Epoch 25/500\n",
            "653/653 [==============================] - 21s 33ms/step - loss: 5.1207 - accuracy: 0.2276\n",
            "Epoch 26/500\n",
            "653/653 [==============================] - 21s 33ms/step - loss: 4.9876 - accuracy: 0.2386\n",
            "Epoch 27/500\n",
            "653/653 [==============================] - 21s 33ms/step - loss: 4.8590 - accuracy: 0.2511\n",
            "Epoch 28/500\n",
            "653/653 [==============================] - 21s 33ms/step - loss: 4.7535 - accuracy: 0.2631\n",
            "Epoch 29/500\n",
            "653/653 [==============================] - 21s 33ms/step - loss: 4.6683 - accuracy: 0.2724\n",
            "Epoch 30/500\n",
            "653/653 [==============================] - 21s 33ms/step - loss: 4.5703 - accuracy: 0.2848\n",
            "Epoch 31/500\n",
            "653/653 [==============================] - 21s 33ms/step - loss: 4.4848 - accuracy: 0.2953\n",
            "Epoch 32/500\n",
            "653/653 [==============================] - 21s 33ms/step - loss: 4.4045 - accuracy: 0.3053\n",
            "Epoch 33/500\n",
            "653/653 [==============================] - 21s 33ms/step - loss: 4.3306 - accuracy: 0.3120\n",
            "Epoch 34/500\n",
            "653/653 [==============================] - 21s 33ms/step - loss: 4.2672 - accuracy: 0.3241\n",
            "Epoch 35/500\n",
            "653/653 [==============================] - 21s 32ms/step - loss: 4.2056 - accuracy: 0.3332\n",
            "Epoch 36/500\n",
            "653/653 [==============================] - 21s 32ms/step - loss: 4.1488 - accuracy: 0.3398\n",
            "Epoch 37/500\n",
            "653/653 [==============================] - 21s 32ms/step - loss: 4.1011 - accuracy: 0.3446\n",
            "Epoch 38/500\n",
            "653/653 [==============================] - 21s 32ms/step - loss: 4.0479 - accuracy: 0.3531\n",
            "Epoch 39/500\n",
            "653/653 [==============================] - 21s 33ms/step - loss: 4.0087 - accuracy: 0.3579\n",
            "Epoch 40/500\n",
            "653/653 [==============================] - 22s 33ms/step - loss: 3.9588 - accuracy: 0.3655\n",
            "Epoch 41/500\n",
            "653/653 [==============================] - 21s 33ms/step - loss: 3.9323 - accuracy: 0.3689\n",
            "Epoch 42/500\n",
            "653/653 [==============================] - 21s 33ms/step - loss: 3.8981 - accuracy: 0.3728\n",
            "Epoch 43/500\n",
            "653/653 [==============================] - 21s 33ms/step - loss: 3.8419 - accuracy: 0.3784\n",
            "Epoch 44/500\n",
            "653/653 [==============================] - 21s 33ms/step - loss: 3.8151 - accuracy: 0.3830\n",
            "Epoch 45/500\n",
            "653/653 [==============================] - 21s 33ms/step - loss: 3.7636 - accuracy: 0.3849\n",
            "Epoch 46/500\n",
            "653/653 [==============================] - 21s 33ms/step - loss: 3.7269 - accuracy: 0.3924\n",
            "Epoch 47/500\n",
            "653/653 [==============================] - 21s 33ms/step - loss: 3.6929 - accuracy: 0.3969\n",
            "Epoch 48/500\n",
            "653/653 [==============================] - 21s 33ms/step - loss: 3.6649 - accuracy: 0.4013\n",
            "Epoch 49/500\n",
            "653/653 [==============================] - 21s 33ms/step - loss: 3.6363 - accuracy: 0.4046\n",
            "Epoch 50/500\n",
            "653/653 [==============================] - 21s 33ms/step - loss: 3.6022 - accuracy: 0.4110\n",
            "Epoch 51/500\n",
            "653/653 [==============================] - 21s 33ms/step - loss: 3.5843 - accuracy: 0.4150\n",
            "Epoch 52/500\n",
            "653/653 [==============================] - 21s 33ms/step - loss: 3.5587 - accuracy: 0.4134\n",
            "Epoch 53/500\n",
            "653/653 [==============================] - 21s 33ms/step - loss: 3.5267 - accuracy: 0.4180\n",
            "Epoch 54/500\n",
            "653/653 [==============================] - 22s 33ms/step - loss: 3.4987 - accuracy: 0.4244\n",
            "Epoch 55/500\n",
            "653/653 [==============================] - 21s 33ms/step - loss: 3.4769 - accuracy: 0.4234\n",
            "Epoch 56/500\n",
            "653/653 [==============================] - 21s 33ms/step - loss: 3.4490 - accuracy: 0.4315\n",
            "Epoch 57/500\n",
            "653/653 [==============================] - 21s 33ms/step - loss: 3.4356 - accuracy: 0.4341\n",
            "Epoch 58/500\n",
            "653/653 [==============================] - 21s 33ms/step - loss: 3.4015 - accuracy: 0.4379\n",
            "Epoch 59/500\n",
            "653/653 [==============================] - 21s 33ms/step - loss: 3.3782 - accuracy: 0.4444\n",
            "Epoch 60/500\n",
            "653/653 [==============================] - 21s 33ms/step - loss: 3.3636 - accuracy: 0.4423\n",
            "Epoch 61/500\n",
            "653/653 [==============================] - 22s 33ms/step - loss: 3.3427 - accuracy: 0.4467\n",
            "Epoch 62/500\n",
            "653/653 [==============================] - 21s 33ms/step - loss: 3.3166 - accuracy: 0.4481\n",
            "Epoch 63/500\n",
            "653/653 [==============================] - 22s 33ms/step - loss: 3.2941 - accuracy: 0.4511\n",
            "Epoch 64/500\n",
            "653/653 [==============================] - 21s 33ms/step - loss: 3.2690 - accuracy: 0.4560\n",
            "Epoch 65/500\n",
            "653/653 [==============================] - 21s 33ms/step - loss: 3.2564 - accuracy: 0.4590\n",
            "Epoch 66/500\n",
            "653/653 [==============================] - 22s 33ms/step - loss: 3.2407 - accuracy: 0.4577\n",
            "Epoch 67/500\n",
            "653/653 [==============================] - 22s 33ms/step - loss: 3.2180 - accuracy: 0.4613\n",
            "Epoch 68/500\n",
            "653/653 [==============================] - 22s 33ms/step - loss: 3.1950 - accuracy: 0.4635\n",
            "Epoch 69/500\n",
            "653/653 [==============================] - 21s 33ms/step - loss: 3.1835 - accuracy: 0.4676\n",
            "Epoch 70/500\n",
            "653/653 [==============================] - 21s 33ms/step - loss: 3.1742 - accuracy: 0.4675\n",
            "Epoch 71/500\n",
            "653/653 [==============================] - 21s 33ms/step - loss: 3.1577 - accuracy: 0.4692\n",
            "Epoch 72/500\n",
            "653/653 [==============================] - 21s 33ms/step - loss: 3.1326 - accuracy: 0.4739\n",
            "Epoch 73/500\n",
            "653/653 [==============================] - 21s 33ms/step - loss: 3.1126 - accuracy: 0.4763\n",
            "Epoch 74/500\n",
            "653/653 [==============================] - 21s 33ms/step - loss: 3.1117 - accuracy: 0.4784\n",
            "Epoch 75/500\n",
            "653/653 [==============================] - 21s 33ms/step - loss: 3.0991 - accuracy: 0.4786\n",
            "Epoch 76/500\n",
            "653/653 [==============================] - 21s 33ms/step - loss: 3.0898 - accuracy: 0.4782\n",
            "Epoch 77/500\n",
            "653/653 [==============================] - 22s 33ms/step - loss: 3.0734 - accuracy: 0.4828\n",
            "Epoch 78/500\n",
            "653/653 [==============================] - 22s 33ms/step - loss: 3.0550 - accuracy: 0.4858\n",
            "Epoch 79/500\n",
            "653/653 [==============================] - 22s 33ms/step - loss: 3.0486 - accuracy: 0.4866\n",
            "Epoch 80/500\n",
            "653/653 [==============================] - 21s 33ms/step - loss: 3.0397 - accuracy: 0.4864\n",
            "Epoch 81/500\n",
            "653/653 [==============================] - 21s 33ms/step - loss: 3.0222 - accuracy: 0.4887\n",
            "Epoch 82/500\n",
            "653/653 [==============================] - 21s 33ms/step - loss: 3.0203 - accuracy: 0.4915\n",
            "Epoch 83/500\n",
            "653/653 [==============================] - 21s 33ms/step - loss: 3.0126 - accuracy: 0.4896\n",
            "Epoch 84/500\n",
            "653/653 [==============================] - 21s 33ms/step - loss: 3.0079 - accuracy: 0.4922\n",
            "Epoch 85/500\n",
            "653/653 [==============================] - 21s 33ms/step - loss: 2.9861 - accuracy: 0.4961\n",
            "Epoch 86/500\n",
            "653/653 [==============================] - 21s 33ms/step - loss: 2.9686 - accuracy: 0.4995\n",
            "Epoch 87/500\n",
            "653/653 [==============================] - 21s 33ms/step - loss: 2.9691 - accuracy: 0.5000\n",
            "Epoch 88/500\n",
            "653/653 [==============================] - 21s 33ms/step - loss: 2.9667 - accuracy: 0.4975\n",
            "Epoch 89/500\n",
            "653/653 [==============================] - 22s 33ms/step - loss: 2.9581 - accuracy: 0.5005\n",
            "Epoch 90/500\n",
            "653/653 [==============================] - 22s 33ms/step - loss: 2.9507 - accuracy: 0.5020\n",
            "Epoch 91/500\n",
            "653/653 [==============================] - 21s 33ms/step - loss: 2.9357 - accuracy: 0.5018\n",
            "Epoch 92/500\n",
            "653/653 [==============================] - 21s 33ms/step - loss: 2.9323 - accuracy: 0.5033\n",
            "Epoch 93/500\n",
            "653/653 [==============================] - 21s 33ms/step - loss: 2.9240 - accuracy: 0.5042\n",
            "Epoch 94/500\n",
            "653/653 [==============================] - 21s 33ms/step - loss: 2.9162 - accuracy: 0.5043\n",
            "Epoch 95/500\n",
            "653/653 [==============================] - 22s 33ms/step - loss: 2.9032 - accuracy: 0.5049\n",
            "Epoch 96/500\n",
            "653/653 [==============================] - 22s 33ms/step - loss: 2.8995 - accuracy: 0.5056\n",
            "Epoch 97/500\n",
            "653/653 [==============================] - 22s 33ms/step - loss: 2.8886 - accuracy: 0.5080\n",
            "Epoch 98/500\n",
            "653/653 [==============================] - 22s 33ms/step - loss: 2.8813 - accuracy: 0.5094\n",
            "Epoch 99/500\n",
            "653/653 [==============================] - 22s 33ms/step - loss: 2.8744 - accuracy: 0.5130\n",
            "Epoch 100/500\n",
            "653/653 [==============================] - 21s 33ms/step - loss: 2.8728 - accuracy: 0.5091\n",
            "Epoch 101/500\n",
            "653/653 [==============================] - 21s 33ms/step - loss: 2.8595 - accuracy: 0.5128\n",
            "Epoch 102/500\n",
            "653/653 [==============================] - 21s 33ms/step - loss: 2.8447 - accuracy: 0.5147\n",
            "Epoch 103/500\n",
            "653/653 [==============================] - 21s 33ms/step - loss: 2.8466 - accuracy: 0.5157\n",
            "Epoch 104/500\n",
            "653/653 [==============================] - 21s 33ms/step - loss: 2.8406 - accuracy: 0.5125\n",
            "Epoch 105/500\n",
            "653/653 [==============================] - 21s 33ms/step - loss: 2.8360 - accuracy: 0.5182\n",
            "Epoch 106/500\n",
            "653/653 [==============================] - 21s 33ms/step - loss: 2.8308 - accuracy: 0.5167\n",
            "Epoch 107/500\n",
            "653/653 [==============================] - 21s 33ms/step - loss: 2.8231 - accuracy: 0.5167\n",
            "Epoch 108/500\n",
            "653/653 [==============================] - 21s 33ms/step - loss: 2.8182 - accuracy: 0.5157\n",
            "Epoch 109/500\n",
            "653/653 [==============================] - 21s 33ms/step - loss: 2.8121 - accuracy: 0.5185\n",
            "Epoch 110/500\n",
            "653/653 [==============================] - 21s 33ms/step - loss: 2.8061 - accuracy: 0.5185\n",
            "Epoch 111/500\n",
            "653/653 [==============================] - 21s 33ms/step - loss: 2.8069 - accuracy: 0.5212\n",
            "Epoch 112/500\n",
            "653/653 [==============================] - 21s 32ms/step - loss: 2.7974 - accuracy: 0.5196\n",
            "Epoch 113/500\n",
            "653/653 [==============================] - 21s 33ms/step - loss: 2.7925 - accuracy: 0.5202\n",
            "Epoch 114/500\n",
            "653/653 [==============================] - 21s 33ms/step - loss: 2.7850 - accuracy: 0.5229\n",
            "Epoch 115/500\n",
            "653/653 [==============================] - 21s 33ms/step - loss: 2.7854 - accuracy: 0.5223\n",
            "Epoch 116/500\n",
            "653/653 [==============================] - 21s 33ms/step - loss: 2.7782 - accuracy: 0.5203\n",
            "Epoch 117/500\n",
            "653/653 [==============================] - 21s 33ms/step - loss: 2.7747 - accuracy: 0.5227\n",
            "Epoch 118/500\n",
            "653/653 [==============================] - 21s 33ms/step - loss: 2.7689 - accuracy: 0.5249\n",
            "Epoch 119/500\n",
            "653/653 [==============================] - 21s 33ms/step - loss: 2.7665 - accuracy: 0.5240\n",
            "Epoch 120/500\n",
            "653/653 [==============================] - 21s 33ms/step - loss: 2.7514 - accuracy: 0.5243\n",
            "Epoch 121/500\n",
            "653/653 [==============================] - 21s 33ms/step - loss: 2.7511 - accuracy: 0.5273\n",
            "Epoch 122/500\n",
            "653/653 [==============================] - 21s 33ms/step - loss: 2.7455 - accuracy: 0.5255\n",
            "Epoch 123/500\n",
            "653/653 [==============================] - 21s 33ms/step - loss: 2.7439 - accuracy: 0.5258\n",
            "Epoch 124/500\n",
            "653/653 [==============================] - 21s 33ms/step - loss: 2.7451 - accuracy: 0.5265\n",
            "Epoch 125/500\n",
            "653/653 [==============================] - 21s 33ms/step - loss: 2.7395 - accuracy: 0.5261\n",
            "Epoch 126/500\n",
            "653/653 [==============================] - 21s 33ms/step - loss: 2.7290 - accuracy: 0.5290\n",
            "Epoch 127/500\n",
            "653/653 [==============================] - 21s 33ms/step - loss: 2.7231 - accuracy: 0.5318\n",
            "Epoch 128/500\n",
            "653/653 [==============================] - 21s 33ms/step - loss: 2.7208 - accuracy: 0.5274\n",
            "Epoch 129/500\n",
            "653/653 [==============================] - 21s 33ms/step - loss: 2.7181 - accuracy: 0.5275\n",
            "Epoch 130/500\n",
            "653/653 [==============================] - 21s 33ms/step - loss: 2.7144 - accuracy: 0.5279\n",
            "Epoch 131/500\n",
            "653/653 [==============================] - 21s 33ms/step - loss: 2.7024 - accuracy: 0.5292\n",
            "Epoch 132/500\n",
            "653/653 [==============================] - 22s 33ms/step - loss: 2.7015 - accuracy: 0.5260\n",
            "Epoch 133/500\n",
            "653/653 [==============================] - 22s 33ms/step - loss: 2.6941 - accuracy: 0.5311\n",
            "Epoch 134/500\n",
            "653/653 [==============================] - 21s 33ms/step - loss: 2.6929 - accuracy: 0.5299\n",
            "Epoch 135/500\n",
            "653/653 [==============================] - 21s 33ms/step - loss: 2.6859 - accuracy: 0.5317\n",
            "Epoch 136/500\n",
            "653/653 [==============================] - 21s 33ms/step - loss: 2.6785 - accuracy: 0.5324\n",
            "Epoch 137/500\n",
            "653/653 [==============================] - 21s 33ms/step - loss: 2.6775 - accuracy: 0.5299\n",
            "Epoch 138/500\n",
            "653/653 [==============================] - 21s 33ms/step - loss: 2.6738 - accuracy: 0.5318\n",
            "Epoch 139/500\n",
            "653/653 [==============================] - 21s 33ms/step - loss: 2.6693 - accuracy: 0.5304\n",
            "Epoch 140/500\n",
            "653/653 [==============================] - 21s 33ms/step - loss: 2.6674 - accuracy: 0.5332\n",
            "Epoch 141/500\n",
            "653/653 [==============================] - 21s 33ms/step - loss: 2.6627 - accuracy: 0.5353\n",
            "Epoch 142/500\n",
            "653/653 [==============================] - 21s 33ms/step - loss: 2.6633 - accuracy: 0.5313\n",
            "Epoch 143/500\n",
            "653/653 [==============================] - 22s 33ms/step - loss: 2.6651 - accuracy: 0.5341\n",
            "Epoch 144/500\n",
            "653/653 [==============================] - 22s 33ms/step - loss: 2.6591 - accuracy: 0.5326\n",
            "Epoch 145/500\n",
            "653/653 [==============================] - 22s 33ms/step - loss: 2.6450 - accuracy: 0.5352\n",
            "Epoch 146/500\n",
            "653/653 [==============================] - 21s 33ms/step - loss: 2.6439 - accuracy: 0.5350\n",
            "Epoch 147/500\n",
            "653/653 [==============================] - 21s 33ms/step - loss: 2.6379 - accuracy: 0.5392\n",
            "Epoch 148/500\n",
            "653/653 [==============================] - 21s 33ms/step - loss: 2.6364 - accuracy: 0.5383\n",
            "Epoch 149/500\n",
            "653/653 [==============================] - 21s 33ms/step - loss: 2.6367 - accuracy: 0.5384\n",
            "Epoch 150/500\n",
            "653/653 [==============================] - 22s 33ms/step - loss: 2.6373 - accuracy: 0.5339\n",
            "Epoch 151/500\n",
            "653/653 [==============================] - 22s 33ms/step - loss: 2.6362 - accuracy: 0.5352\n",
            "Epoch 152/500\n",
            "653/653 [==============================] - 21s 33ms/step - loss: 2.6369 - accuracy: 0.5347\n",
            "Epoch 153/500\n",
            "653/653 [==============================] - 21s 33ms/step - loss: 2.6273 - accuracy: 0.5370\n",
            "Epoch 154/500\n",
            "653/653 [==============================] - 21s 33ms/step - loss: 2.6153 - accuracy: 0.5405\n",
            "Epoch 155/500\n",
            "653/653 [==============================] - 21s 33ms/step - loss: 2.6096 - accuracy: 0.5385\n",
            "Epoch 156/500\n",
            "653/653 [==============================] - 21s 33ms/step - loss: 2.6093 - accuracy: 0.5387\n",
            "Epoch 157/500\n",
            "653/653 [==============================] - 21s 33ms/step - loss: 2.6048 - accuracy: 0.5406\n",
            "Epoch 158/500\n",
            "653/653 [==============================] - 22s 33ms/step - loss: 2.5997 - accuracy: 0.5413\n",
            "Epoch 159/500\n",
            "653/653 [==============================] - 22s 33ms/step - loss: 2.6074 - accuracy: 0.5397\n",
            "Epoch 160/500\n",
            "653/653 [==============================] - 21s 33ms/step - loss: 2.5995 - accuracy: 0.5389\n",
            "Epoch 161/500\n",
            "653/653 [==============================] - 21s 33ms/step - loss: 2.5944 - accuracy: 0.5416\n",
            "Epoch 162/500\n",
            "653/653 [==============================] - 22s 33ms/step - loss: 2.5948 - accuracy: 0.5404\n",
            "Epoch 163/500\n",
            "653/653 [==============================] - 22s 33ms/step - loss: 2.5866 - accuracy: 0.5422\n",
            "Epoch 164/500\n",
            "653/653 [==============================] - 22s 33ms/step - loss: 2.5846 - accuracy: 0.5395\n",
            "Epoch 165/500\n",
            "653/653 [==============================] - 21s 33ms/step - loss: 2.5912 - accuracy: 0.5414\n",
            "Epoch 166/500\n",
            "653/653 [==============================] - 21s 33ms/step - loss: 2.5821 - accuracy: 0.5407\n",
            "Epoch 167/500\n",
            "653/653 [==============================] - 21s 33ms/step - loss: 2.5756 - accuracy: 0.5435\n",
            "Epoch 168/500\n",
            "653/653 [==============================] - 21s 33ms/step - loss: 2.5741 - accuracy: 0.5427\n",
            "Epoch 169/500\n",
            "653/653 [==============================] - 21s 33ms/step - loss: 2.5771 - accuracy: 0.5445\n",
            "Epoch 170/500\n",
            "653/653 [==============================] - 21s 33ms/step - loss: 2.5763 - accuracy: 0.5435\n",
            "Epoch 171/500\n",
            "653/653 [==============================] - 21s 33ms/step - loss: 2.5738 - accuracy: 0.5443\n",
            "Epoch 172/500\n",
            "653/653 [==============================] - 21s 33ms/step - loss: 2.5766 - accuracy: 0.5430\n",
            "Epoch 173/500\n",
            "653/653 [==============================] - 22s 33ms/step - loss: 2.5730 - accuracy: 0.5432\n",
            "Epoch 174/500\n",
            "653/653 [==============================] - 22s 33ms/step - loss: 2.5693 - accuracy: 0.5434\n",
            "Epoch 175/500\n",
            "653/653 [==============================] - 22s 33ms/step - loss: 2.5685 - accuracy: 0.5466\n",
            "Epoch 176/500\n",
            "653/653 [==============================] - 22s 33ms/step - loss: 2.5639 - accuracy: 0.5437\n",
            "Epoch 177/500\n",
            "653/653 [==============================] - 22s 33ms/step - loss: 2.5579 - accuracy: 0.5456\n",
            "Epoch 178/500\n",
            "653/653 [==============================] - 22s 33ms/step - loss: 2.5599 - accuracy: 0.5430\n",
            "Epoch 179/500\n",
            "653/653 [==============================] - 22s 33ms/step - loss: 2.5589 - accuracy: 0.5409\n",
            "Epoch 180/500\n",
            "653/653 [==============================] - 22s 33ms/step - loss: 2.5513 - accuracy: 0.5453\n",
            "Epoch 181/500\n",
            "653/653 [==============================] - 22s 33ms/step - loss: 2.5525 - accuracy: 0.5447\n",
            "Epoch 182/500\n",
            "653/653 [==============================] - 22s 33ms/step - loss: 2.5457 - accuracy: 0.5446\n",
            "Epoch 183/500\n",
            "653/653 [==============================] - 22s 33ms/step - loss: 2.5409 - accuracy: 0.5447\n",
            "Epoch 184/500\n",
            "653/653 [==============================] - 22s 33ms/step - loss: 2.5440 - accuracy: 0.5468\n",
            "Epoch 185/500\n",
            "653/653 [==============================] - 22s 33ms/step - loss: 2.5468 - accuracy: 0.5475\n",
            "Epoch 186/500\n",
            "653/653 [==============================] - 22s 33ms/step - loss: 2.5385 - accuracy: 0.5473\n",
            "Epoch 187/500\n",
            "653/653 [==============================] - 22s 33ms/step - loss: 2.5357 - accuracy: 0.5463\n",
            "Epoch 188/500\n",
            "653/653 [==============================] - 22s 33ms/step - loss: 2.5383 - accuracy: 0.5450\n",
            "Epoch 189/500\n",
            "653/653 [==============================] - 22s 33ms/step - loss: 2.5362 - accuracy: 0.5507\n",
            "Epoch 190/500\n",
            "653/653 [==============================] - 22s 33ms/step - loss: 2.5399 - accuracy: 0.5448\n",
            "\n",
            "Epoch 00190: ReduceLROnPlateau reducing learning rate to 0.00020000000949949026.\n",
            "Epoch 191/500\n",
            "653/653 [==============================] - 22s 34ms/step - loss: 2.5008 - accuracy: 0.5808\n",
            "Epoch 192/500\n",
            "653/653 [==============================] - 22s 34ms/step - loss: 2.4878 - accuracy: 0.5795\n",
            "Epoch 193/500\n",
            "653/653 [==============================] - 22s 34ms/step - loss: 2.4861 - accuracy: 0.5812\n",
            "Epoch 194/500\n",
            "653/653 [==============================] - 22s 34ms/step - loss: 2.4848 - accuracy: 0.5766\n",
            "Epoch 195/500\n",
            "653/653 [==============================] - 22s 34ms/step - loss: 2.4847 - accuracy: 0.5762\n",
            "Epoch 196/500\n",
            "653/653 [==============================] - 22s 34ms/step - loss: 2.4833 - accuracy: 0.5724\n",
            "Epoch 197/500\n",
            "653/653 [==============================] - 22s 34ms/step - loss: 2.4831 - accuracy: 0.5726\n",
            "Epoch 198/500\n",
            "653/653 [==============================] - 22s 34ms/step - loss: 2.4826 - accuracy: 0.5697\n",
            "Epoch 199/500\n",
            "653/653 [==============================] - 22s 34ms/step - loss: 2.4819 - accuracy: 0.5697\n",
            "Epoch 200/500\n",
            "653/653 [==============================] - 22s 34ms/step - loss: 2.4820 - accuracy: 0.5674\n",
            "Epoch 201/500\n",
            "653/653 [==============================] - 22s 34ms/step - loss: 2.4810 - accuracy: 0.5699\n",
            "Epoch 202/500\n",
            "653/653 [==============================] - 22s 34ms/step - loss: 2.4801 - accuracy: 0.5697\n",
            "Epoch 203/500\n",
            "653/653 [==============================] - 22s 33ms/step - loss: 2.4801 - accuracy: 0.5660\n",
            "Epoch 204/500\n",
            "653/653 [==============================] - 22s 33ms/step - loss: 2.4792 - accuracy: 0.5683\n",
            "Epoch 205/500\n",
            "653/653 [==============================] - 22s 33ms/step - loss: 2.4791 - accuracy: 0.5653\n",
            "Epoch 206/500\n",
            "653/653 [==============================] - 22s 33ms/step - loss: 2.4786 - accuracy: 0.5640\n",
            "Epoch 207/500\n",
            "653/653 [==============================] - 22s 33ms/step - loss: 2.4783 - accuracy: 0.5669\n",
            "Epoch 208/500\n",
            "653/653 [==============================] - 22s 33ms/step - loss: 2.4780 - accuracy: 0.5659\n",
            "Epoch 209/500\n",
            "653/653 [==============================] - 22s 33ms/step - loss: 2.4771 - accuracy: 0.5675\n",
            "Epoch 210/500\n",
            "653/653 [==============================] - 22s 34ms/step - loss: 2.4774 - accuracy: 0.5660\n",
            "Epoch 211/500\n",
            "653/653 [==============================] - 22s 33ms/step - loss: 2.4765 - accuracy: 0.5677\n",
            "Epoch 212/500\n",
            "653/653 [==============================] - 22s 33ms/step - loss: 2.4760 - accuracy: 0.5643\n",
            "Epoch 213/500\n",
            "653/653 [==============================] - 22s 34ms/step - loss: 2.4762 - accuracy: 0.5653\n",
            "Epoch 214/500\n",
            "653/653 [==============================] - 22s 33ms/step - loss: 2.4752 - accuracy: 0.5659\n",
            "Epoch 215/500\n",
            "653/653 [==============================] - 22s 33ms/step - loss: 2.4749 - accuracy: 0.5650\n",
            "Epoch 216/500\n",
            "653/653 [==============================] - 22s 33ms/step - loss: 2.4746 - accuracy: 0.5653\n",
            "Epoch 217/500\n",
            "653/653 [==============================] - 22s 33ms/step - loss: 2.4738 - accuracy: 0.5656\n",
            "Epoch 218/500\n",
            "653/653 [==============================] - 22s 33ms/step - loss: 2.4733 - accuracy: 0.5653\n",
            "Epoch 219/500\n",
            "653/653 [==============================] - 22s 33ms/step - loss: 2.4727 - accuracy: 0.5636\n",
            "Epoch 220/500\n",
            "653/653 [==============================] - 22s 33ms/step - loss: 2.4716 - accuracy: 0.5667\n",
            "Epoch 221/500\n",
            "653/653 [==============================] - 22s 33ms/step - loss: 2.4666 - accuracy: 0.5660\n",
            "Epoch 222/500\n",
            "653/653 [==============================] - 22s 33ms/step - loss: 2.4531 - accuracy: 0.5665\n",
            "Epoch 223/500\n",
            "653/653 [==============================] - 22s 33ms/step - loss: 2.4407 - accuracy: 0.5674\n",
            "Epoch 224/500\n",
            "653/653 [==============================] - 22s 33ms/step - loss: 2.4317 - accuracy: 0.5658\n",
            "Epoch 225/500\n",
            "653/653 [==============================] - 22s 33ms/step - loss: 2.4257 - accuracy: 0.5672\n",
            "Epoch 226/500\n",
            "653/653 [==============================] - 22s 33ms/step - loss: 2.4203 - accuracy: 0.5662\n",
            "Epoch 227/500\n",
            "653/653 [==============================] - 22s 33ms/step - loss: 2.4162 - accuracy: 0.5652\n",
            "Epoch 228/500\n",
            "653/653 [==============================] - 22s 33ms/step - loss: 2.4140 - accuracy: 0.5640\n",
            "Epoch 229/500\n",
            "653/653 [==============================] - 22s 33ms/step - loss: 2.4094 - accuracy: 0.5666\n",
            "Epoch 230/500\n",
            "653/653 [==============================] - 22s 33ms/step - loss: 2.4057 - accuracy: 0.5637\n",
            "Epoch 231/500\n",
            "653/653 [==============================] - 22s 33ms/step - loss: 2.4020 - accuracy: 0.5650\n",
            "Epoch 232/500\n",
            "653/653 [==============================] - 22s 33ms/step - loss: 2.3983 - accuracy: 0.5648\n",
            "Epoch 233/500\n",
            "653/653 [==============================] - 22s 34ms/step - loss: 2.3959 - accuracy: 0.5677\n",
            "Epoch 234/500\n",
            "653/653 [==============================] - 22s 34ms/step - loss: 2.3931 - accuracy: 0.5667\n",
            "Epoch 235/500\n",
            "653/653 [==============================] - 22s 34ms/step - loss: 2.3903 - accuracy: 0.5657\n",
            "Epoch 236/500\n",
            "653/653 [==============================] - 22s 33ms/step - loss: 2.3877 - accuracy: 0.5659\n",
            "Epoch 237/500\n",
            "653/653 [==============================] - 22s 33ms/step - loss: 2.3845 - accuracy: 0.5657\n",
            "Epoch 238/500\n",
            "653/653 [==============================] - 22s 34ms/step - loss: 2.3813 - accuracy: 0.5667\n",
            "Epoch 239/500\n",
            "653/653 [==============================] - 22s 34ms/step - loss: 2.3791 - accuracy: 0.5661\n",
            "Epoch 240/500\n",
            "653/653 [==============================] - 22s 33ms/step - loss: 2.3774 - accuracy: 0.5653\n",
            "Epoch 241/500\n",
            "653/653 [==============================] - 22s 33ms/step - loss: 2.3742 - accuracy: 0.5650\n",
            "Epoch 242/500\n",
            "653/653 [==============================] - 22s 34ms/step - loss: 2.3715 - accuracy: 0.5671\n",
            "Epoch 243/500\n",
            "653/653 [==============================] - 22s 34ms/step - loss: 2.3678 - accuracy: 0.5682\n",
            "Epoch 244/500\n",
            "653/653 [==============================] - 22s 33ms/step - loss: 2.3650 - accuracy: 0.5667\n",
            "Epoch 245/500\n",
            "653/653 [==============================] - 22s 33ms/step - loss: 2.3623 - accuracy: 0.5659\n",
            "Epoch 246/500\n",
            "653/653 [==============================] - 22s 34ms/step - loss: 2.3600 - accuracy: 0.5644\n",
            "Epoch 247/500\n",
            "653/653 [==============================] - 22s 33ms/step - loss: 2.3566 - accuracy: 0.5669\n",
            "Epoch 248/500\n",
            "653/653 [==============================] - 22s 34ms/step - loss: 2.3538 - accuracy: 0.5671\n",
            "Epoch 249/500\n",
            "653/653 [==============================] - 22s 34ms/step - loss: 2.3500 - accuracy: 0.5660\n",
            "Epoch 250/500\n",
            "653/653 [==============================] - 22s 33ms/step - loss: 2.3480 - accuracy: 0.5664\n",
            "Epoch 251/500\n",
            "653/653 [==============================] - 22s 33ms/step - loss: 2.3452 - accuracy: 0.5669\n",
            "Epoch 252/500\n",
            "653/653 [==============================] - 22s 34ms/step - loss: 2.3419 - accuracy: 0.5672\n",
            "Epoch 253/500\n",
            "653/653 [==============================] - 22s 34ms/step - loss: 2.3316 - accuracy: 0.5660\n",
            "Epoch 254/500\n",
            "653/653 [==============================] - 22s 33ms/step - loss: 2.3084 - accuracy: 0.5666\n",
            "Epoch 255/500\n",
            "653/653 [==============================] - 22s 33ms/step - loss: 2.2890 - accuracy: 0.5664\n",
            "Epoch 256/500\n",
            "653/653 [==============================] - 22s 34ms/step - loss: 2.2755 - accuracy: 0.5677\n",
            "Epoch 257/500\n",
            "653/653 [==============================] - 22s 34ms/step - loss: 2.2644 - accuracy: 0.5688\n",
            "Epoch 258/500\n",
            "653/653 [==============================] - 22s 33ms/step - loss: 2.2550 - accuracy: 0.5686\n",
            "Epoch 259/500\n",
            "653/653 [==============================] - 22s 34ms/step - loss: 2.2492 - accuracy: 0.5653\n",
            "Epoch 260/500\n",
            "653/653 [==============================] - 22s 34ms/step - loss: 2.2409 - accuracy: 0.5686\n",
            "Epoch 261/500\n",
            "653/653 [==============================] - 22s 34ms/step - loss: 2.2339 - accuracy: 0.5687\n",
            "Epoch 262/500\n",
            "653/653 [==============================] - 22s 34ms/step - loss: 2.2277 - accuracy: 0.5678\n",
            "Epoch 263/500\n",
            "653/653 [==============================] - 22s 33ms/step - loss: 2.2222 - accuracy: 0.5708\n",
            "Epoch 264/500\n",
            "653/653 [==============================] - 22s 34ms/step - loss: 2.2158 - accuracy: 0.5708\n",
            "Epoch 265/500\n",
            "653/653 [==============================] - 22s 34ms/step - loss: 2.2109 - accuracy: 0.5726\n",
            "Epoch 266/500\n",
            "653/653 [==============================] - 22s 33ms/step - loss: 2.2022 - accuracy: 0.5727\n",
            "Epoch 267/500\n",
            "653/653 [==============================] - 22s 33ms/step - loss: 2.1953 - accuracy: 0.5715\n",
            "Epoch 268/500\n",
            "653/653 [==============================] - 22s 34ms/step - loss: 2.1870 - accuracy: 0.5714\n",
            "Epoch 269/500\n",
            "653/653 [==============================] - 22s 34ms/step - loss: 2.1750 - accuracy: 0.5715\n",
            "Epoch 270/500\n",
            "653/653 [==============================] - 22s 34ms/step - loss: 2.1615 - accuracy: 0.5707\n",
            "Epoch 271/500\n",
            "653/653 [==============================] - 22s 34ms/step - loss: 2.1489 - accuracy: 0.5710\n",
            "Epoch 272/500\n",
            "653/653 [==============================] - 22s 33ms/step - loss: 2.1382 - accuracy: 0.5709\n",
            "Epoch 273/500\n",
            "653/653 [==============================] - 22s 34ms/step - loss: 2.1272 - accuracy: 0.5721\n",
            "Epoch 274/500\n",
            "653/653 [==============================] - 22s 34ms/step - loss: 2.1184 - accuracy: 0.5730\n",
            "Epoch 275/500\n",
            "653/653 [==============================] - 22s 34ms/step - loss: 2.1098 - accuracy: 0.5731\n",
            "Epoch 276/500\n",
            "653/653 [==============================] - 22s 34ms/step - loss: 2.0998 - accuracy: 0.5739\n",
            "Epoch 277/500\n",
            "653/653 [==============================] - 22s 34ms/step - loss: 2.0887 - accuracy: 0.5746\n",
            "Epoch 278/500\n",
            "653/653 [==============================] - 22s 34ms/step - loss: 2.0782 - accuracy: 0.5735\n",
            "Epoch 279/500\n",
            "653/653 [==============================] - 22s 34ms/step - loss: 2.0670 - accuracy: 0.5745\n",
            "Epoch 280/500\n",
            "653/653 [==============================] - 22s 33ms/step - loss: 2.0526 - accuracy: 0.5744\n",
            "Epoch 281/500\n",
            "653/653 [==============================] - 22s 34ms/step - loss: 2.0314 - accuracy: 0.5772\n",
            "Epoch 282/500\n",
            "653/653 [==============================] - 22s 33ms/step - loss: 1.9960 - accuracy: 0.5784\n",
            "Epoch 283/500\n",
            "653/653 [==============================] - 22s 34ms/step - loss: 1.9667 - accuracy: 0.5793\n",
            "Epoch 284/500\n",
            "653/653 [==============================] - 22s 34ms/step - loss: 1.9397 - accuracy: 0.5816\n",
            "Epoch 285/500\n",
            "653/653 [==============================] - 22s 34ms/step - loss: 1.9182 - accuracy: 0.5811\n",
            "Epoch 286/500\n",
            "653/653 [==============================] - 22s 34ms/step - loss: 1.8932 - accuracy: 0.5834\n",
            "Epoch 287/500\n",
            "653/653 [==============================] - 22s 34ms/step - loss: 1.8688 - accuracy: 0.5829\n",
            "Epoch 288/500\n",
            "653/653 [==============================] - 22s 34ms/step - loss: 1.8393 - accuracy: 0.5869\n",
            "Epoch 289/500\n",
            "653/653 [==============================] - 22s 34ms/step - loss: 1.8101 - accuracy: 0.5871\n",
            "Epoch 290/500\n",
            "653/653 [==============================] - 22s 34ms/step - loss: 1.7836 - accuracy: 0.5885\n",
            "Epoch 291/500\n",
            "653/653 [==============================] - 22s 34ms/step - loss: 1.7612 - accuracy: 0.5895\n",
            "Epoch 292/500\n",
            "653/653 [==============================] - 22s 34ms/step - loss: 1.7321 - accuracy: 0.5945\n",
            "Epoch 293/500\n",
            "653/653 [==============================] - 22s 34ms/step - loss: 1.7086 - accuracy: 0.5939\n",
            "Epoch 294/500\n",
            "653/653 [==============================] - 22s 34ms/step - loss: 1.6858 - accuracy: 0.6000\n",
            "Epoch 295/500\n",
            "653/653 [==============================] - 22s 34ms/step - loss: 1.6623 - accuracy: 0.6005\n",
            "Epoch 296/500\n",
            "653/653 [==============================] - 22s 34ms/step - loss: 1.6388 - accuracy: 0.6007\n",
            "Epoch 297/500\n",
            "653/653 [==============================] - 22s 33ms/step - loss: 1.6190 - accuracy: 0.6042\n",
            "Epoch 298/500\n",
            "653/653 [==============================] - 22s 33ms/step - loss: 1.5946 - accuracy: 0.6072\n",
            "Epoch 299/500\n",
            "653/653 [==============================] - 22s 33ms/step - loss: 1.5708 - accuracy: 0.6111\n",
            "Epoch 300/500\n",
            "653/653 [==============================] - 22s 34ms/step - loss: 1.5445 - accuracy: 0.6133\n",
            "Epoch 301/500\n",
            "653/653 [==============================] - 22s 34ms/step - loss: 1.5210 - accuracy: 0.6150\n",
            "Epoch 302/500\n",
            "653/653 [==============================] - 22s 33ms/step - loss: 1.4934 - accuracy: 0.6207\n",
            "Epoch 303/500\n",
            "653/653 [==============================] - 22s 33ms/step - loss: 1.4642 - accuracy: 0.6239\n",
            "Epoch 304/500\n",
            "653/653 [==============================] - 22s 33ms/step - loss: 1.4380 - accuracy: 0.6270\n",
            "Epoch 305/500\n",
            "653/653 [==============================] - 22s 33ms/step - loss: 1.4041 - accuracy: 0.6318\n",
            "Epoch 306/500\n",
            "653/653 [==============================] - 22s 33ms/step - loss: 1.3730 - accuracy: 0.6375\n",
            "Epoch 307/500\n",
            "653/653 [==============================] - 22s 33ms/step - loss: 1.3436 - accuracy: 0.6379\n",
            "Epoch 308/500\n",
            "653/653 [==============================] - 22s 33ms/step - loss: 1.3111 - accuracy: 0.6442\n",
            "Epoch 309/500\n",
            "653/653 [==============================] - 22s 33ms/step - loss: 1.2812 - accuracy: 0.6489\n",
            "Epoch 310/500\n",
            "653/653 [==============================] - 22s 33ms/step - loss: 1.2523 - accuracy: 0.6551\n",
            "Epoch 311/500\n",
            "653/653 [==============================] - 22s 33ms/step - loss: 1.2231 - accuracy: 0.6581\n",
            "Epoch 312/500\n",
            "653/653 [==============================] - 22s 33ms/step - loss: 1.1962 - accuracy: 0.6606\n",
            "Epoch 313/500\n",
            "653/653 [==============================] - 22s 33ms/step - loss: 1.1703 - accuracy: 0.6661\n",
            "Epoch 314/500\n",
            "653/653 [==============================] - 22s 33ms/step - loss: 1.1425 - accuracy: 0.6681\n",
            "Epoch 315/500\n",
            "653/653 [==============================] - 22s 33ms/step - loss: 1.1165 - accuracy: 0.6744\n",
            "Epoch 316/500\n",
            "653/653 [==============================] - 22s 33ms/step - loss: 1.0923 - accuracy: 0.6775\n",
            "Epoch 317/500\n",
            "653/653 [==============================] - 22s 33ms/step - loss: 1.0720 - accuracy: 0.6795\n",
            "Epoch 318/500\n",
            "653/653 [==============================] - 22s 33ms/step - loss: 1.0459 - accuracy: 0.6830\n",
            "Epoch 319/500\n",
            "653/653 [==============================] - 22s 33ms/step - loss: 1.0190 - accuracy: 0.6886\n",
            "Epoch 320/500\n",
            "653/653 [==============================] - 22s 34ms/step - loss: 0.9941 - accuracy: 0.6882\n",
            "Epoch 321/500\n",
            "653/653 [==============================] - 22s 34ms/step - loss: 0.9699 - accuracy: 0.6973\n",
            "Epoch 322/500\n",
            "653/653 [==============================] - 22s 34ms/step - loss: 0.9512 - accuracy: 0.6960\n",
            "Epoch 323/500\n",
            "653/653 [==============================] - 22s 34ms/step - loss: 0.9280 - accuracy: 0.7029\n",
            "Epoch 324/500\n",
            "653/653 [==============================] - 22s 33ms/step - loss: 0.9067 - accuracy: 0.7067\n",
            "Epoch 325/500\n",
            "653/653 [==============================] - 22s 33ms/step - loss: 0.8873 - accuracy: 0.7067\n",
            "Epoch 326/500\n",
            "653/653 [==============================] - 22s 33ms/step - loss: 0.8648 - accuracy: 0.7100\n",
            "Epoch 327/500\n",
            "653/653 [==============================] - 22s 33ms/step - loss: 0.8434 - accuracy: 0.7125\n",
            "Epoch 328/500\n",
            "653/653 [==============================] - 21s 33ms/step - loss: 0.8243 - accuracy: 0.7152\n",
            "Epoch 329/500\n",
            "653/653 [==============================] - 21s 33ms/step - loss: 0.8065 - accuracy: 0.7164\n",
            "Epoch 330/500\n",
            "653/653 [==============================] - 21s 33ms/step - loss: 0.7874 - accuracy: 0.7213\n",
            "Epoch 331/500\n",
            "653/653 [==============================] - 21s 33ms/step - loss: 0.7707 - accuracy: 0.7224\n",
            "Epoch 332/500\n",
            "653/653 [==============================] - 21s 33ms/step - loss: 0.7474 - accuracy: 0.7278\n",
            "Epoch 333/500\n",
            "653/653 [==============================] - 21s 33ms/step - loss: 0.7359 - accuracy: 0.7291\n",
            "Epoch 334/500\n",
            "653/653 [==============================] - 22s 33ms/step - loss: 0.7198 - accuracy: 0.7301\n",
            "Epoch 335/500\n",
            "653/653 [==============================] - 21s 33ms/step - loss: 0.7048 - accuracy: 0.7272\n",
            "Epoch 336/500\n",
            "653/653 [==============================] - 22s 33ms/step - loss: 0.6886 - accuracy: 0.7333\n",
            "Epoch 337/500\n",
            "653/653 [==============================] - 21s 33ms/step - loss: 0.6716 - accuracy: 0.7355\n",
            "Epoch 338/500\n",
            "653/653 [==============================] - 22s 33ms/step - loss: 0.6533 - accuracy: 0.7396\n",
            "Epoch 339/500\n",
            "653/653 [==============================] - 22s 33ms/step - loss: 0.6409 - accuracy: 0.7379\n",
            "Epoch 340/500\n",
            "653/653 [==============================] - 22s 33ms/step - loss: 0.6327 - accuracy: 0.7460\n",
            "Epoch 341/500\n",
            "653/653 [==============================] - 21s 33ms/step - loss: 0.6173 - accuracy: 0.7429\n",
            "Epoch 342/500\n",
            "653/653 [==============================] - 22s 33ms/step - loss: 0.6054 - accuracy: 0.7433\n",
            "Epoch 343/500\n",
            "653/653 [==============================] - 22s 33ms/step - loss: 0.5897 - accuracy: 0.7482\n",
            "Epoch 344/500\n",
            "653/653 [==============================] - 22s 33ms/step - loss: 0.5764 - accuracy: 0.7519\n",
            "Epoch 345/500\n",
            "653/653 [==============================] - 21s 33ms/step - loss: 0.5683 - accuracy: 0.7506\n",
            "Epoch 346/500\n",
            "653/653 [==============================] - 21s 33ms/step - loss: 0.5519 - accuracy: 0.7537\n",
            "Epoch 347/500\n",
            "653/653 [==============================] - 22s 33ms/step - loss: 0.5421 - accuracy: 0.7538\n",
            "Epoch 348/500\n",
            "653/653 [==============================] - 21s 33ms/step - loss: 0.5304 - accuracy: 0.7553\n",
            "Epoch 349/500\n",
            "653/653 [==============================] - 21s 33ms/step - loss: 0.5167 - accuracy: 0.7583\n",
            "Epoch 350/500\n",
            "653/653 [==============================] - 21s 33ms/step - loss: 0.5081 - accuracy: 0.7591\n",
            "Epoch 351/500\n",
            "653/653 [==============================] - 22s 33ms/step - loss: 0.4955 - accuracy: 0.7623\n",
            "Epoch 352/500\n",
            "653/653 [==============================] - 22s 33ms/step - loss: 0.4866 - accuracy: 0.7611\n",
            "Epoch 353/500\n",
            "653/653 [==============================] - 22s 33ms/step - loss: 0.4775 - accuracy: 0.7605\n",
            "Epoch 354/500\n",
            "653/653 [==============================] - 21s 33ms/step - loss: 0.4700 - accuracy: 0.7643\n",
            "Epoch 355/500\n",
            "653/653 [==============================] - 22s 33ms/step - loss: 0.4579 - accuracy: 0.7640\n",
            "Epoch 356/500\n",
            "653/653 [==============================] - 21s 33ms/step - loss: 0.4519 - accuracy: 0.7651\n",
            "Epoch 357/500\n",
            "653/653 [==============================] - 21s 33ms/step - loss: 0.4432 - accuracy: 0.7670\n",
            "Epoch 358/500\n",
            "653/653 [==============================] - 22s 33ms/step - loss: 0.4348 - accuracy: 0.7713\n",
            "Epoch 359/500\n",
            "653/653 [==============================] - 21s 33ms/step - loss: 0.4275 - accuracy: 0.7705\n",
            "Epoch 360/500\n",
            "653/653 [==============================] - 22s 33ms/step - loss: 0.4225 - accuracy: 0.7705\n",
            "Epoch 361/500\n",
            "653/653 [==============================] - 22s 33ms/step - loss: 0.4119 - accuracy: 0.7717\n",
            "Epoch 362/500\n",
            "653/653 [==============================] - 22s 33ms/step - loss: 0.4059 - accuracy: 0.7707\n",
            "Epoch 363/500\n",
            "653/653 [==============================] - 22s 33ms/step - loss: 0.3995 - accuracy: 0.7725\n",
            "Epoch 364/500\n",
            "653/653 [==============================] - 22s 33ms/step - loss: 0.3923 - accuracy: 0.7767\n",
            "Epoch 365/500\n",
            "653/653 [==============================] - 21s 33ms/step - loss: 0.3851 - accuracy: 0.7773\n",
            "Epoch 366/500\n",
            "653/653 [==============================] - 21s 33ms/step - loss: 0.3786 - accuracy: 0.7754\n",
            "Epoch 367/500\n",
            "653/653 [==============================] - 21s 33ms/step - loss: 0.3725 - accuracy: 0.7789\n",
            "Epoch 368/500\n",
            "653/653 [==============================] - 21s 32ms/step - loss: 0.3657 - accuracy: 0.7785\n",
            "Epoch 369/500\n",
            "653/653 [==============================] - 21s 32ms/step - loss: 0.3623 - accuracy: 0.7781\n",
            "Epoch 370/500\n",
            "653/653 [==============================] - 21s 32ms/step - loss: 0.3547 - accuracy: 0.7799\n",
            "Epoch 371/500\n",
            "653/653 [==============================] - 21s 32ms/step - loss: 0.3508 - accuracy: 0.7796\n",
            "Epoch 372/500\n",
            "653/653 [==============================] - 22s 33ms/step - loss: 0.3457 - accuracy: 0.7844\n",
            "Epoch 373/500\n",
            "653/653 [==============================] - 22s 33ms/step - loss: 0.3408 - accuracy: 0.7787\n",
            "Epoch 374/500\n",
            "653/653 [==============================] - 22s 33ms/step - loss: 0.3349 - accuracy: 0.7838\n",
            "Epoch 375/500\n",
            "653/653 [==============================] - 22s 33ms/step - loss: 0.3302 - accuracy: 0.7815\n",
            "Epoch 376/500\n",
            "653/653 [==============================] - 22s 33ms/step - loss: 0.3251 - accuracy: 0.7827\n",
            "Epoch 377/500\n",
            "653/653 [==============================] - 21s 33ms/step - loss: 0.3208 - accuracy: 0.7854\n",
            "Epoch 378/500\n",
            "653/653 [==============================] - 22s 33ms/step - loss: 0.3165 - accuracy: 0.7841\n",
            "Epoch 379/500\n",
            "653/653 [==============================] - 22s 33ms/step - loss: 0.3118 - accuracy: 0.7868\n",
            "Epoch 380/500\n",
            "653/653 [==============================] - 22s 33ms/step - loss: 0.3102 - accuracy: 0.7855\n",
            "Epoch 381/500\n",
            "653/653 [==============================] - 22s 33ms/step - loss: 0.3080 - accuracy: 0.7864\n",
            "Epoch 382/500\n",
            "653/653 [==============================] - 21s 33ms/step - loss: 0.3033 - accuracy: 0.7859\n",
            "Epoch 383/500\n",
            "653/653 [==============================] - 21s 33ms/step - loss: 0.2987 - accuracy: 0.7869\n",
            "Epoch 384/500\n",
            "653/653 [==============================] - 22s 33ms/step - loss: 0.2968 - accuracy: 0.7898\n",
            "Epoch 385/500\n",
            "653/653 [==============================] - 22s 33ms/step - loss: 0.2926 - accuracy: 0.7920\n",
            "Epoch 386/500\n",
            "653/653 [==============================] - 21s 33ms/step - loss: 0.2897 - accuracy: 0.7926\n",
            "Epoch 387/500\n",
            "653/653 [==============================] - 22s 33ms/step - loss: 0.2889 - accuracy: 0.7908\n",
            "Epoch 388/500\n",
            "653/653 [==============================] - 22s 33ms/step - loss: 0.2846 - accuracy: 0.7917\n",
            "Epoch 389/500\n",
            "653/653 [==============================] - 22s 33ms/step - loss: 0.2842 - accuracy: 0.7888\n",
            "Epoch 390/500\n",
            "653/653 [==============================] - 22s 33ms/step - loss: 0.2808 - accuracy: 0.7935\n",
            "Epoch 391/500\n",
            "653/653 [==============================] - 22s 33ms/step - loss: 0.2781 - accuracy: 0.7951\n",
            "Epoch 392/500\n",
            "653/653 [==============================] - 22s 33ms/step - loss: 0.2758 - accuracy: 0.7950\n",
            "Epoch 393/500\n",
            "653/653 [==============================] - 22s 33ms/step - loss: 0.2758 - accuracy: 0.7937\n",
            "Epoch 394/500\n",
            "653/653 [==============================] - 21s 33ms/step - loss: 0.2720 - accuracy: 0.7937\n",
            "Epoch 395/500\n",
            "653/653 [==============================] - 22s 33ms/step - loss: 0.2715 - accuracy: 0.7943\n",
            "Epoch 396/500\n",
            "653/653 [==============================] - 22s 33ms/step - loss: 0.2707 - accuracy: 0.7907\n",
            "Epoch 397/500\n",
            "653/653 [==============================] - 22s 34ms/step - loss: 0.2703 - accuracy: 0.7951\n",
            "Epoch 398/500\n",
            "653/653 [==============================] - 22s 33ms/step - loss: 0.2677 - accuracy: 0.7955\n",
            "Epoch 399/500\n",
            "653/653 [==============================] - 22s 33ms/step - loss: 0.2655 - accuracy: 0.7971\n",
            "Epoch 400/500\n",
            "653/653 [==============================] - 22s 33ms/step - loss: 0.2656 - accuracy: 0.7961\n",
            "Epoch 401/500\n",
            "653/653 [==============================] - 22s 33ms/step - loss: 0.2632 - accuracy: 0.7976\n",
            "Epoch 402/500\n",
            "653/653 [==============================] - 22s 33ms/step - loss: 0.2643 - accuracy: 0.7961\n",
            "Epoch 403/500\n",
            "653/653 [==============================] - 22s 33ms/step - loss: 0.2623 - accuracy: 0.7945\n",
            "Epoch 404/500\n",
            "653/653 [==============================] - 22s 33ms/step - loss: 0.2622 - accuracy: 0.7942\n",
            "Epoch 405/500\n",
            "653/653 [==============================] - 22s 33ms/step - loss: 0.2602 - accuracy: 0.7950\n",
            "Epoch 406/500\n",
            "653/653 [==============================] - 22s 33ms/step - loss: 0.2594 - accuracy: 0.7915\n",
            "Epoch 407/500\n",
            "653/653 [==============================] - 22s 33ms/step - loss: 0.2582 - accuracy: 0.7942\n",
            "Epoch 408/500\n",
            "653/653 [==============================] - 22s 33ms/step - loss: 0.2583 - accuracy: 0.7923\n",
            "Epoch 409/500\n",
            "653/653 [==============================] - 22s 33ms/step - loss: 0.2590 - accuracy: 0.7961\n",
            "Epoch 410/500\n",
            "653/653 [==============================] - 22s 33ms/step - loss: 0.2582 - accuracy: 0.7953\n",
            "\n",
            "Epoch 00410: ReduceLROnPlateau reducing learning rate to 0.0001.\n",
            "Epoch 411/500\n",
            "653/653 [==============================] - 22s 33ms/step - loss: 0.2483 - accuracy: 0.8127\n",
            "Epoch 412/500\n",
            "653/653 [==============================] - 22s 33ms/step - loss: 0.2467 - accuracy: 0.8117\n",
            "Epoch 413/500\n",
            "653/653 [==============================] - 22s 33ms/step - loss: 0.2460 - accuracy: 0.8125\n",
            "Epoch 414/500\n",
            "653/653 [==============================] - 22s 33ms/step - loss: 0.2453 - accuracy: 0.8128\n",
            "Epoch 415/500\n",
            "653/653 [==============================] - 22s 33ms/step - loss: 0.2455 - accuracy: 0.8094\n",
            "Epoch 416/500\n",
            "653/653 [==============================] - 22s 33ms/step - loss: 0.2458 - accuracy: 0.8097\n",
            "Epoch 417/500\n",
            "653/653 [==============================] - 22s 33ms/step - loss: 0.2454 - accuracy: 0.8079\n",
            "Epoch 418/500\n",
            "653/653 [==============================] - 22s 33ms/step - loss: 0.2445 - accuracy: 0.8116\n",
            "Epoch 419/500\n",
            "653/653 [==============================] - 22s 33ms/step - loss: 0.2453 - accuracy: 0.8111\n",
            "Epoch 420/500\n",
            "653/653 [==============================] - 22s 33ms/step - loss: 0.2452 - accuracy: 0.8093\n",
            "Epoch 421/500\n",
            "653/653 [==============================] - 22s 33ms/step - loss: 0.2444 - accuracy: 0.8099\n",
            "Epoch 422/500\n",
            "653/653 [==============================] - 22s 33ms/step - loss: 0.2441 - accuracy: 0.8118\n",
            "Epoch 423/500\n",
            "653/653 [==============================] - 22s 33ms/step - loss: 0.2437 - accuracy: 0.8110\n",
            "Epoch 424/500\n",
            "653/653 [==============================] - 22s 33ms/step - loss: 0.2439 - accuracy: 0.8101\n",
            "Epoch 425/500\n",
            "653/653 [==============================] - 22s 33ms/step - loss: 0.2434 - accuracy: 0.8131\n",
            "Epoch 426/500\n",
            "653/653 [==============================] - 22s 33ms/step - loss: 0.2439 - accuracy: 0.8101\n",
            "Epoch 427/500\n",
            "653/653 [==============================] - 22s 33ms/step - loss: 0.2433 - accuracy: 0.8099\n",
            "Epoch 428/500\n",
            "653/653 [==============================] - 22s 33ms/step - loss: 0.2434 - accuracy: 0.8093\n",
            "Epoch 429/500\n",
            "653/653 [==============================] - 22s 33ms/step - loss: 0.2432 - accuracy: 0.8107\n",
            "Epoch 430/500\n",
            "653/653 [==============================] - 22s 33ms/step - loss: 0.2433 - accuracy: 0.8077\n",
            "Epoch 431/500\n",
            "653/653 [==============================] - 22s 33ms/step - loss: 0.2426 - accuracy: 0.8101\n",
            "Epoch 432/500\n",
            "653/653 [==============================] - 22s 33ms/step - loss: 0.2422 - accuracy: 0.8118\n",
            "Epoch 433/500\n",
            "653/653 [==============================] - 22s 33ms/step - loss: 0.2426 - accuracy: 0.8103\n",
            "Epoch 434/500\n",
            "653/653 [==============================] - 22s 33ms/step - loss: 0.2426 - accuracy: 0.8087\n",
            "Epoch 435/500\n",
            "653/653 [==============================] - 22s 33ms/step - loss: 0.2428 - accuracy: 0.8075\n",
            "Epoch 436/500\n",
            "653/653 [==============================] - 22s 33ms/step - loss: 0.2430 - accuracy: 0.8102\n",
            "Epoch 437/500\n",
            "653/653 [==============================] - 22s 33ms/step - loss: 0.2428 - accuracy: 0.8081\n"
          ],
          "name": "stdout"
        }
      ]
    },
    {
      "cell_type": "code",
      "metadata": {
        "id": "1fXTEO3GJ282",
        "colab": {
          "base_uri": "https://localhost:8080/",
          "height": 545
        },
        "outputId": "08d3cbdc-ba2b-43fa-fd69-70a6fec7e8a8"
      },
      "source": [
        "import matplotlib.pyplot as plt\n",
        "acc = history.history['accuracy']\n",
        "loss = history.history['loss']\n",
        "\n",
        "epochs = range(len(acc))\n",
        "\n",
        "plt.plot(epochs, acc, 'b')\n",
        "plt.title('Training accuracy')\n",
        "\n",
        "plt.figure()\n",
        "\n",
        "plt.plot(epochs, loss, 'b')\n",
        "plt.title('Training loss')\n",
        "\n",
        "\n",
        "plt.show()"
      ],
      "execution_count": null,
      "outputs": [
        {
          "output_type": "display_data",
          "data": {
            "image/png": "[encoded data removed]",
            "text/plain": [
              "<Figure size 432x288 with 1 Axes>"
            ]
          },
          "metadata": {
            "tags": [],
            "needs_background": "light"
          }
        },
        {
          "output_type": "display_data",
          "data": {
            "image/png": "[encoded data removed]",
            "text/plain": [
              "<Figure size 432x288 with 1 Axes>"
            ]
          },
          "metadata": {
            "tags": [],
            "needs_background": "light"
          }
        }
      ]
    },
    {
      "cell_type": "code",
      "metadata": {
        "id": "6Vc6PHgxa6Hm",
        "colab": {
          "base_uri": "https://localhost:8080/"
        },
        "outputId": "ebc02004-cc19-498d-c0ea-240405196978"
      },
      "source": [
        "text = \"hukum\"\n",
        "print('input: '+text)\n",
        "print('nomor itu accuracy')\n",
        "\n",
        "token_list = tokenizer.texts_to_sequences([text])[0]\n",
        "token_list = pad_sequences([token_list], maxlen=1)\n",
        "\n",
        "predictions = model.predict(token_list)\n",
        "\n",
        "indices = np.argpartition(predictions, -10)[0][-10:]\n",
        "\n",
        "results = {}\n",
        "for index in indices:\n",
        "  key = [k for (k, v) in tokenizer.word_index.items() if v == index]\n",
        "  results.update({key[0]: predictions[0, index]})\n",
        "\n",
        "  results = {k: v for k, v in sorted(results.items(), key=lambda item: item[1], reverse=True)}\n",
        "\n",
        "print(\"{}\".format(results))\n",
        "for i in results:\n",
        "  print(text+\" \"+i)"
      ],
      "execution_count": null,
      "outputs": [
        {
          "output_type": "stream",
          "text": [
            "input: hukum\n",
            "nomor itu accuracy\n",
            "{'hamid': 0.33673173, 'supaya': 0.33176455, 'konvensi': 0.33046797, 'gugatannya': 0.00018817352, 'diberlakukannya': 0.00016991662, 'menghiraukan': 0.00016071345, 'para': 0.00015414269, 'tve': 7.9861165e-05, 'bacalah': 7.265037e-05, '761': 7.171022e-05}\n",
            "hukum hamid\n",
            "hukum supaya\n",
            "hukum konvensi\n",
            "hukum gugatannya\n",
            "hukum diberlakukannya\n",
            "hukum menghiraukan\n",
            "hukum para\n",
            "hukum tve\n",
            "hukum bacalah\n",
            "hukum 761\n"
          ],
          "name": "stdout"
        }
      ]
    },
    {
      "cell_type": "code",
      "metadata": {
        "colab": {
          "base_uri": "https://localhost:8080/"
        },
        "id": "I7mM_ztYyVfm",
        "outputId": "86022cdf-7525-4cc1-b670-b483f3eb04e2"
      },
      "source": [
        "model.save('/content/drive/MyDrive/Bangkit Capstone/checkpoint/model')"
      ],
      "execution_count": null,
      "outputs": [
        {
          "output_type": "stream",
          "text": [
            "WARNING:absl:Found untraced functions such as lstm_cell_7_layer_call_and_return_conditional_losses, lstm_cell_7_layer_call_fn, lstm_cell_8_layer_call_and_return_conditional_losses, lstm_cell_8_layer_call_fn, lstm_cell_10_layer_call_and_return_conditional_losses while saving (showing 5 of 20). These functions will not be directly callable after loading.\n"
          ],
          "name": "stderr"
        },
        {
          "output_type": "stream",
          "text": [
            "INFO:tensorflow:Assets written to: /content/drive/MyDrive/Bangkit Capstone/checkpoint/model/assets\n"
          ],
          "name": "stdout"
        },
        {
          "output_type": "stream",
          "text": [
            "INFO:tensorflow:Assets written to: /content/drive/MyDrive/Bangkit Capstone/checkpoint/model/assets\n"
          ],
          "name": "stderr"
        }
      ]
    },
    {
      "cell_type": "code",
      "metadata": {
        "id": "ojrV_gqHy958"
      },
      "source": [
        "model.save('/content/drive/MyDrive/Bangkit Capstone/checkpoint/model/saved_prototype_model_HDF5/my_model.h5')"
      ],
      "execution_count": null,
      "outputs": []
    },
    {
      "cell_type": "code",
      "metadata": {
        "id": "o4F_LDFZ1HSV"
      },
      "source": [
        "import pathlib"
      ],
      "execution_count": null,
      "outputs": []
    },
    {
      "cell_type": "code",
      "metadata": {
        "id": "AsYRWkBtzkc1"
      },
      "source": [
        "converter = tf.lite.TFLiteConverter.from_saved_model('/content/drive/MyDrive/Bangkit Capstone/checkpoint/model')\n",
        "converter.optimizations = [tf.lite.Optimize.OPTIMIZE_FOR_SIZE]\n",
        "tflite_model = converter.convert()"
      ],
      "execution_count": null,
      "outputs": []
    },
    {
      "cell_type": "code",
      "metadata": {
        "colab": {
          "base_uri": "https://localhost:8080/"
        },
        "id": "5-89WmXv0oRL",
        "outputId": "78468cc7-0c6c-43ec-ca81-b8d54eef59a9"
      },
      "source": [
        "tflite_model_file = pathlib.Path('/content/drive/MyDrive/Bangkit Capstone/modelSizeOptimize.tflite')\n",
        "tflite_model_file.write_bytes(tflite_model)"
      ],
      "execution_count": null,
      "outputs": [
        {
          "output_type": "execute_result",
          "data": {
            "text/plain": [
              "32153616"
            ]
          },
          "metadata": {
            "tags": []
          },
          "execution_count": 30
        }
      ]
    },
    {
      "cell_type": "code",
      "metadata": {
        "colab": {
          "base_uri": "https://localhost:8080/"
        },
        "id": "TUbbILxr1fFl",
        "outputId": "e0344202-4ae9-4d42-b092-6a905600c943"
      },
      "source": [
        "converter.optimizations = [tf.lite.Optimize.OPTIMIZE_FOR_LATENCY]\n",
        "tflite_model = converter.convert()\n",
        "tflite_model_file = pathlib.Path('/content/drive/MyDrive/Bangkit Capstone/modelLatencyOptimize.tflite')\n",
        "tflite_model_file.write_bytes(tflite_model)"
      ],
      "execution_count": null,
      "outputs": [
        {
          "output_type": "execute_result",
          "data": {
            "text/plain": [
              "32153616"
            ]
          },
          "metadata": {
            "tags": []
          },
          "execution_count": 31
        }
      ]
    },
    {
      "cell_type": "code",
      "metadata": {
        "colab": {
          "base_uri": "https://localhost:8080/"
        },
        "id": "sTdAybrB19TX",
        "outputId": "5080b37f-f5f6-4376-bae8-dbac67a9a742"
      },
      "source": [
        "converter.optimizations = [tf.lite.Optimize.DEFAULT]\n",
        "tflite_model = converter.convert()\n",
        "tflite_model_file = pathlib.Path('/content/drive/MyDrive/Bangkit Capstone/modelDefaultOptimize.tflite')\n",
        "tflite_model_file.write_bytes(tflite_model)"
      ],
      "execution_count": null,
      "outputs": [
        {
          "output_type": "execute_result",
          "data": {
            "text/plain": [
              "32153616"
            ]
          },
          "metadata": {
            "tags": []
          },
          "execution_count": 32
        }
      ]
    },
    {
      "cell_type": "code",
      "metadata": {
        "colab": {
          "base_uri": "https://localhost:8080/"
        },
        "id": "dJfs8Y6qaTAg",
        "outputId": "8cdc210a-04c6-4eb8-fc9b-0d63a11e937e"
      },
      "source": [
        "from google.colab import auth\n",
        "auth.authenticate_user()\n",
        "project_id = 'hukumpedia'\n",
        "!gcloud config set project {project_id}\n",
        "!gsutil ls"
      ],
      "execution_count": 3,
      "outputs": [
        {
          "output_type": "stream",
          "text": [
            "Updated property [core/project].\n",
            "gs://hukumpedia.appspot.com/\n",
            "gs://instrumenhukum/\n",
            "gs://staging.hukumpedia.appspot.com/\n"
          ],
          "name": "stdout"
        }
      ]
    },
    {
      "cell_type": "code",
      "metadata": {
        "colab": {
          "base_uri": "https://localhost:8080/"
        },
        "id": "GNyGvcWIbQGy",
        "outputId": "ff450ef0-24ef-4732-dc83-aca5ffc979bf"
      },
      "source": [
        "!gsutil -m cp -r /content/drive/MyDrive/BangkitCapstone gs://instrumenhukum/"
      ],
      "execution_count": 5,
      "outputs": [
        {
          "output_type": "stream",
          "text": [
            "Copying file:///content/drive/MyDrive/BangkitCapstone/model.png [Content-Type=image/png]...\n",
            "/ [0 files][    0.0 B/ 19.4 KiB]                                                \rCopying file:///content/drive/MyDrive/BangkitCapstone/tokenizer.pickle [Content-Type=application/octet-stream]...\n",
            "Copying file:///content/drive/MyDrive/BangkitCapstone/modelSizeOptimize.tflite [Content-Type=application/octet-stream]...\n",
            "/ [0 files][    0.0 B/718.8 KiB]                                                \rCopying file:///content/drive/MyDrive/BangkitCapstone/modelLatencyOptimize.tflite [Content-Type=application/octet-stream]...\n",
            "Copying file:///content/drive/MyDrive/BangkitCapstone/tokenizer.json [Content-Type=application/json]...\n",
            "Copying file:///content/drive/MyDrive/BangkitCapstone/modelDefaultOptimize.tflite [Content-Type=application/octet-stream]...\n",
            "Copying file:///content/drive/MyDrive/BangkitCapstone/checkpoint/model/keras_metadata.pb [Content-Type=application/octet-stream]...\n",
            "Copying file:///content/drive/MyDrive/BangkitCapstone/checkpoint/model/saved_model.pb [Content-Type=application/octet-stream]...\n",
            "Copying file:///content/drive/MyDrive/BangkitCapstone/checkpoint/model/variables/variables.index [Content-Type=application/octet-stream]...\n",
            "Copying file:///content/drive/MyDrive/BangkitCapstone/checkpoint/model/variables/variables.data-00000-of-00001 [Content-Type=application/octet-stream]...\n",
            "Copying file:///content/drive/MyDrive/BangkitCapstone/checkpoint/model/saved_prototype_model_HDF5/my_model.h5 [Content-Type=application/octet-stream]...\n",
            "==> NOTE: You are uploading one or more large file(s), which would run\n",
            "significantly faster if you enable parallel composite uploads. This\n",
            "feature can be enabled by editing the\n",
            "\"parallel_composite_upload_threshold\" value in your .boto\n",
            "configuration file. However, note that if you do this large files will\n",
            "be uploaded as `composite objects\n",
            "<https://cloud.google.com/storage/docs/composite-objects>`_,which\n",
            "means that any user who downloads such objects will need to have a\n",
            "compiled crcmod installed (see \"gsutil help crcmod\"). This is because\n",
            "without a compiled crcmod, computing checksums on composite objects is\n",
            "so slow that gsutil disables downloads of composite objects.\n",
            "\n",
            "- [11/11 files][832.2 MiB/832.2 MiB] 100% Done  83.0 MiB/s ETA 00:00:00         \n",
            "Operation completed over 11 objects/832.2 MiB.                                   \n"
          ],
          "name": "stdout"
        }
      ]
    }
  ]
}