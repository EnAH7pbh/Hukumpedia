{
  "nbformat": 4,
  "nbformat_minor": 0,
  "metadata": {
    "accelerator": "GPU",
    "colab": {
      "name": "Prototype Capstone Project Model.ipynb",
      "provenance": [],
      "machine_shape": "hm",
      "include_colab_link": true
    },
    "kernelspec": {
      "display_name": "Python 3",
      "name": "python3"
    }
  },
  "cells": [
    {
      "cell_type": "markdown",
      "metadata": {
        "id": "view-in-github",
        "colab_type": "text"
      },
      "source": [
        "<a href=\"https://colab.research.google.com/github/ahmadcah/Hukumpedia/blob/master/Google_Colab/Prototype_Capstone_Project_Model.ipynb\" target=\"_parent\"><img src=\"https://colab.research.google.com/assets/colab-badge.svg\" alt=\"Open In Colab\"/></a>"
      ]
    },
    {
      "cell_type": "code",
      "metadata": {
        "id": "zX4Kg8DUTKWO"
      },
      "source": [
        "#@title Licensed under the Apache License, Version 2.0 (the \"License\");\n",
        "# you may not use this file except in compliance with the License.\n",
        "# You may obtain a copy of the License at\n",
        "#\n",
        "# https://www.apache.org/licenses/LICENSE-2.0\n",
        "#\n",
        "# Unless required by applicable law or agreed to in writing, software\n",
        "# distributed under the License is distributed on an \"AS IS\" BASIS,\n",
        "# WITHOUT WARRANTIES OR CONDITIONS OF ANY KIND, either express or implied.\n",
        "# See the License for the specific language governing permissions and\n",
        "# limitations under the License."
      ],
      "execution_count": null,
      "outputs": []
    },
    {
      "cell_type": "code",
      "metadata": {
        "id": "BOwsuGQQY9OL"
      },
      "source": [
        "from tensorflow.keras.preprocessing.sequence import pad_sequences\n",
        "from tensorflow.keras.layers import Embedding, LSTM, Dense, Dropout, Bidirectional\n",
        "from tensorflow.keras.preprocessing.text import Tokenizer\n",
        "from tensorflow.keras.models import Sequential\n",
        "from tensorflow.keras.optimizers import Adam\n",
        "import tensorflow as tf\n",
        "import tensorflow.keras.utils as ku \n",
        "import numpy as np \n",
        "import re"
      ],
      "execution_count": 2,
      "outputs": []
    },
    {
      "cell_type": "code",
      "metadata": {
        "id": "PRnDnCW-Z7qv"
      },
      "source": [
        "with open('MergedData.txt', 'rb') as f:\n",
        "  data = ''.join([x.decode('utf8') for x in f.readlines()])\n",
        "  corpus = data.lower().split(\"\\r\\n\")\n",
        "  corpus = [re.sub('\\d', '', y) for y in corpus]\n",
        "\n",
        "tokenizer = Tokenizer()\n",
        "tokenizer.fit_on_texts(corpus)\n",
        "total_words = len(tokenizer.word_index) + 1\n",
        "\n",
        "# create input sequences using list of tokens\n",
        "input_sequences = []\n",
        "for line in corpus:\n",
        "\ttoken_list = tokenizer.texts_to_sequences([line])[0]\n",
        "\tfor i in range(1, len(token_list)):\n",
        "\t\tn_gram_sequence = token_list[:i+1]\n",
        "\t\tinput_sequences.append(n_gram_sequence)\n",
        "\n",
        "# pad sequences \n",
        "max_sequence_len = max([len(x) for x in input_sequences])\n",
        "input_sequences = np.array(pad_sequences(input_sequences, maxlen=max_sequence_len, padding='pre'))\n",
        "# create predictors and label\n",
        "predictors, label = input_sequences[:,:-1],input_sequences[:,-1]\n",
        "label = ku.to_categorical(label, num_classes=total_words)"
      ],
      "execution_count": 10,
      "outputs": []
    },
    {
      "cell_type": "code",
      "metadata": {
        "id": "F6AiIm4CHe7c"
      },
      "source": [
        "print(total_words)"
      ],
      "execution_count": null,
      "outputs": []
    },
    {
      "cell_type": "code",
      "metadata": {
        "id": "yqh082OX18y_"
      },
      "source": [
        "print(tokenizer.word_index)"
      ],
      "execution_count": null,
      "outputs": []
    },
    {
      "cell_type": "code",
      "metadata": {
        "id": "8fZJ6y9GfTDk"
      },
      "source": [
        "class myCallback(tf.keras.callbacks.Callback):\n",
        "  def on_epoch_end(self, epoch, logs={}):\n",
        "    if(logs.get('accuracy')>0.96):\n",
        "      print(\"\\nReached 96% accuracy so cancelling training!\")\n",
        "      self.model.stop_training = True\n",
        "\n",
        "callbacks = myCallback()"
      ],
      "execution_count": 13,
      "outputs": []
    },
    {
      "cell_type": "code",
      "metadata": {
        "id": "w9vH8Y59ajYL",
        "colab": {
          "base_uri": "https://localhost:8080/"
        },
        "outputId": "ceb70d65-1e1d-4d96-8a2c-e753fa0edb71"
      },
      "source": [
        "model = Sequential()\n",
        "model.add(Embedding(total_words, 256, input_length=max_sequence_len-1))\n",
        "model.add(Bidirectional(LSTM(256, return_sequences=True)))\n",
        "model.add(Bidirectional(LSTM(256)))\n",
        "model.add(Dropout(0.2))\n",
        "model.add(Dense(total_words, activation='softmax'))\n",
        "# Pick an optimizer\n",
        "model.compile(loss='categorical_crossentropy', optimizer='adam', metrics=['accuracy'])\n",
        "print(model.summary())\n"
      ],
      "execution_count": 15,
      "outputs": [
        {
          "output_type": "stream",
          "text": [
            "Model: \"sequential_1\"\n",
            "_________________________________________________________________\n",
            "Layer (type)                 Output Shape              Param #   \n",
            "=================================================================\n",
            "embedding_1 (Embedding)      (None, 23, 256)           1992704   \n",
            "_________________________________________________________________\n",
            "bidirectional_1 (Bidirection (None, 23, 512)           1050624   \n",
            "_________________________________________________________________\n",
            "bidirectional_2 (Bidirection (None, 512)               1574912   \n",
            "_________________________________________________________________\n",
            "dropout_1 (Dropout)          (None, 512)               0         \n",
            "_________________________________________________________________\n",
            "dense_1 (Dense)              (None, 7784)              3993192   \n",
            "=================================================================\n",
            "Total params: 8,611,432\n",
            "Trainable params: 8,611,432\n",
            "Non-trainable params: 0\n",
            "_________________________________________________________________\n",
            "None\n"
          ],
          "name": "stdout"
        }
      ]
    },
    {
      "cell_type": "code",
      "metadata": {
        "id": "AIg2f1HBxqof",
        "colab": {
          "base_uri": "https://localhost:8080/"
        },
        "outputId": "946cc1fb-f208-4696-92f8-5b7b6bfe39c3"
      },
      "source": [
        " history = model.fit(predictors, label, epochs=250, verbose=1, callbacks=[callbacks])"
      ],
      "execution_count": 16,
      "outputs": [
        {
          "output_type": "stream",
          "text": [
            "Epoch 1/250\n",
            "3917/3917 [==============================] - 145s 34ms/step - loss: 6.1895 - accuracy: 0.0840\n",
            "Epoch 2/250\n",
            "3917/3917 [==============================] - 165s 42ms/step - loss: 5.4172 - accuracy: 0.1585\n",
            "Epoch 3/250\n",
            "3917/3917 [==============================] - 180s 46ms/step - loss: 5.0073 - accuracy: 0.1942\n",
            "Epoch 4/250\n",
            "3917/3917 [==============================] - 180s 46ms/step - loss: 4.7040 - accuracy: 0.2160\n",
            "Epoch 5/250\n",
            "3917/3917 [==============================] - 170s 44ms/step - loss: 4.4588 - accuracy: 0.2318\n",
            "Epoch 6/250\n",
            "3917/3917 [==============================] - 133s 34ms/step - loss: 4.2415 - accuracy: 0.2467\n",
            "Epoch 7/250\n",
            "3917/3917 [==============================] - 126s 32ms/step - loss: 4.0501 - accuracy: 0.2612\n",
            "Epoch 8/250\n",
            "3917/3917 [==============================] - 112s 29ms/step - loss: 3.8701 - accuracy: 0.2736\n",
            "Epoch 9/250\n",
            "3917/3917 [==============================] - 116s 30ms/step - loss: 3.7068 - accuracy: 0.2847\n",
            "Epoch 10/250\n",
            "3917/3917 [==============================] - 113s 29ms/step - loss: 3.5423 - accuracy: 0.3000\n",
            "Epoch 11/250\n",
            "3917/3917 [==============================] - 107s 27ms/step - loss: 3.3884 - accuracy: 0.3151\n",
            "Epoch 12/250\n",
            "3917/3917 [==============================] - 94s 24ms/step - loss: 3.2377 - accuracy: 0.3294\n",
            "Epoch 13/250\n",
            "3917/3917 [==============================] - 115s 29ms/step - loss: 3.0842 - accuracy: 0.3463\n",
            "Epoch 14/250\n",
            "3917/3917 [==============================] - 124s 32ms/step - loss: 2.9371 - accuracy: 0.3656\n",
            "Epoch 15/250\n",
            "3917/3917 [==============================] - 123s 31ms/step - loss: 2.7871 - accuracy: 0.3848\n",
            "Epoch 16/250\n",
            "3917/3917 [==============================] - 112s 29ms/step - loss: 2.6459 - accuracy: 0.4066\n",
            "Epoch 17/250\n",
            "3917/3917 [==============================] - 111s 28ms/step - loss: 2.5057 - accuracy: 0.4292\n",
            "Epoch 18/250\n",
            "3917/3917 [==============================] - 117s 30ms/step - loss: 2.3727 - accuracy: 0.4500\n",
            "Epoch 19/250\n",
            "3917/3917 [==============================] - 123s 32ms/step - loss: 2.2413 - accuracy: 0.4731\n",
            "Epoch 20/250\n",
            "3917/3917 [==============================] - 112s 29ms/step - loss: 2.1166 - accuracy: 0.4948\n",
            "Epoch 21/250\n",
            "3917/3917 [==============================] - 113s 29ms/step - loss: 2.0034 - accuracy: 0.5171\n",
            "Epoch 22/250\n",
            "3917/3917 [==============================] - 111s 28ms/step - loss: 1.8915 - accuracy: 0.5395\n",
            "Epoch 23/250\n",
            "3917/3917 [==============================] - 111s 28ms/step - loss: 1.7910 - accuracy: 0.5593\n",
            "Epoch 24/250\n",
            "3917/3917 [==============================] - 137s 35ms/step - loss: 1.6981 - accuracy: 0.5782\n",
            "Epoch 25/250\n",
            "3917/3917 [==============================] - 119s 30ms/step - loss: 1.6079 - accuracy: 0.5968\n",
            "Epoch 26/250\n",
            "3917/3917 [==============================] - 124s 32ms/step - loss: 1.5314 - accuracy: 0.6127\n",
            "Epoch 27/250\n",
            "3917/3917 [==============================] - 121s 31ms/step - loss: 1.4632 - accuracy: 0.6271\n",
            "Epoch 28/250\n",
            "3917/3917 [==============================] - 107s 27ms/step - loss: 1.3973 - accuracy: 0.6426\n",
            "Epoch 29/250\n",
            "3917/3917 [==============================] - 109s 28ms/step - loss: 1.3356 - accuracy: 0.6567\n",
            "Epoch 30/250\n",
            "3917/3917 [==============================] - 115s 29ms/step - loss: 1.2848 - accuracy: 0.6680\n",
            "Epoch 31/250\n",
            "3917/3917 [==============================] - 131s 33ms/step - loss: 1.2340 - accuracy: 0.6807\n",
            "Epoch 32/250\n",
            "3917/3917 [==============================] - 130s 33ms/step - loss: 1.1944 - accuracy: 0.6887\n",
            "Epoch 33/250\n",
            "3917/3917 [==============================] - 127s 32ms/step - loss: 1.1523 - accuracy: 0.6980\n",
            "Epoch 34/250\n",
            "3917/3917 [==============================] - 113s 29ms/step - loss: 1.1187 - accuracy: 0.7074\n",
            "Epoch 35/250\n",
            "3917/3917 [==============================] - 120s 31ms/step - loss: 1.0864 - accuracy: 0.7157\n",
            "Epoch 36/250\n",
            "3917/3917 [==============================] - 114s 29ms/step - loss: 1.0580 - accuracy: 0.7219\n",
            "Epoch 37/250\n",
            "3917/3917 [==============================] - 110s 28ms/step - loss: 1.0332 - accuracy: 0.7279\n",
            "Epoch 38/250\n",
            "3917/3917 [==============================] - 109s 28ms/step - loss: 1.0042 - accuracy: 0.7353\n",
            "Epoch 39/250\n",
            "3917/3917 [==============================] - 112s 29ms/step - loss: 0.9876 - accuracy: 0.7384\n",
            "Epoch 40/250\n",
            "3917/3917 [==============================] - 110s 28ms/step - loss: 0.9645 - accuracy: 0.7448\n",
            "Epoch 41/250\n",
            "3917/3917 [==============================] - 111s 28ms/step - loss: 0.9516 - accuracy: 0.7466\n",
            "Epoch 42/250\n",
            "3917/3917 [==============================] - 111s 28ms/step - loss: 0.9339 - accuracy: 0.7522\n",
            "Epoch 43/250\n",
            "3917/3917 [==============================] - 113s 29ms/step - loss: 0.9175 - accuracy: 0.7557\n",
            "Epoch 44/250\n",
            "3917/3917 [==============================] - 112s 29ms/step - loss: 0.9116 - accuracy: 0.7566\n",
            "Epoch 45/250\n",
            "3917/3917 [==============================] - 110s 28ms/step - loss: 0.9017 - accuracy: 0.7603\n",
            "Epoch 46/250\n",
            "3917/3917 [==============================] - 111s 28ms/step - loss: 0.8887 - accuracy: 0.7627\n",
            "Epoch 47/250\n",
            "3917/3917 [==============================] - 112s 29ms/step - loss: 0.8747 - accuracy: 0.7660\n",
            "Epoch 48/250\n",
            "3917/3917 [==============================] - 111s 28ms/step - loss: 0.8693 - accuracy: 0.7672\n",
            "Epoch 49/250\n",
            "3917/3917 [==============================] - 111s 28ms/step - loss: 0.8644 - accuracy: 0.7680\n",
            "Epoch 50/250\n",
            "3917/3917 [==============================] - 112s 29ms/step - loss: 0.8524 - accuracy: 0.7710\n",
            "Epoch 51/250\n",
            "3917/3917 [==============================] - 110s 28ms/step - loss: 0.8450 - accuracy: 0.7730\n",
            "Epoch 52/250\n",
            "3917/3917 [==============================] - 112s 29ms/step - loss: 0.8329 - accuracy: 0.7760\n",
            "Epoch 53/250\n",
            "3917/3917 [==============================] - 110s 28ms/step - loss: 0.8290 - accuracy: 0.7770\n",
            "Epoch 54/250\n",
            "3917/3917 [==============================] - 111s 28ms/step - loss: 0.8263 - accuracy: 0.7774\n",
            "Epoch 55/250\n",
            "3917/3917 [==============================] - 112s 29ms/step - loss: 0.8233 - accuracy: 0.7785\n",
            "Epoch 56/250\n",
            "3917/3917 [==============================] - 113s 29ms/step - loss: 0.8157 - accuracy: 0.7801\n",
            "Epoch 57/250\n",
            "3917/3917 [==============================] - 111s 28ms/step - loss: 0.8169 - accuracy: 0.7796\n",
            "Epoch 58/250\n",
            "3917/3917 [==============================] - 112s 29ms/step - loss: 0.8142 - accuracy: 0.7803\n",
            "Epoch 59/250\n",
            "3917/3917 [==============================] - 111s 28ms/step - loss: 0.8059 - accuracy: 0.7821\n",
            "Epoch 60/250\n",
            "3917/3917 [==============================] - 111s 28ms/step - loss: 0.8063 - accuracy: 0.7830\n",
            "Epoch 61/250\n",
            "3917/3917 [==============================] - 113s 29ms/step - loss: 0.8040 - accuracy: 0.7831\n",
            "Epoch 62/250\n",
            "3917/3917 [==============================] - 112s 29ms/step - loss: 0.7976 - accuracy: 0.7837\n",
            "Epoch 63/250\n",
            "3917/3917 [==============================] - 112s 29ms/step - loss: 0.7989 - accuracy: 0.7839\n",
            "Epoch 64/250\n",
            "3917/3917 [==============================] - 131s 33ms/step - loss: 0.7917 - accuracy: 0.7850\n",
            "Epoch 65/250\n",
            "3917/3917 [==============================] - 112s 29ms/step - loss: 0.7939 - accuracy: 0.7848\n",
            "Epoch 66/250\n",
            "3917/3917 [==============================] - 112s 29ms/step - loss: 0.7923 - accuracy: 0.7853\n",
            "Epoch 67/250\n",
            "3917/3917 [==============================] - 113s 29ms/step - loss: 0.7858 - accuracy: 0.7871\n",
            "Epoch 68/250\n",
            "3917/3917 [==============================] - 113s 29ms/step - loss: 0.7891 - accuracy: 0.7872\n",
            "Epoch 69/250\n",
            "3917/3917 [==============================] - 110s 28ms/step - loss: 0.7806 - accuracy: 0.7881\n",
            "Epoch 70/250\n",
            "3917/3917 [==============================] - 108s 28ms/step - loss: 0.7806 - accuracy: 0.7879\n",
            "Epoch 71/250\n",
            "3917/3917 [==============================] - 112s 29ms/step - loss: 0.7755 - accuracy: 0.7885\n",
            "Epoch 72/250\n",
            "3917/3917 [==============================] - 129s 33ms/step - loss: 0.7873 - accuracy: 0.7869\n",
            "Epoch 73/250\n",
            "3917/3917 [==============================] - 143s 37ms/step - loss: 0.7772 - accuracy: 0.7892\n",
            "Epoch 74/250\n",
            "3917/3917 [==============================] - 141s 36ms/step - loss: 0.7738 - accuracy: 0.7885\n",
            "Epoch 75/250\n",
            "3917/3917 [==============================] - 141s 36ms/step - loss: 0.7718 - accuracy: 0.7906\n",
            "Epoch 76/250\n",
            "3917/3917 [==============================] - 120s 31ms/step - loss: 0.7718 - accuracy: 0.7888\n",
            "Epoch 77/250\n",
            "3917/3917 [==============================] - 120s 31ms/step - loss: 0.7743 - accuracy: 0.7895\n",
            "Epoch 78/250\n",
            "3917/3917 [==============================] - 158s 40ms/step - loss: 0.7693 - accuracy: 0.7907\n",
            "Epoch 79/250\n",
            "3917/3917 [==============================] - 170s 43ms/step - loss: 0.7695 - accuracy: 0.7907\n",
            "Epoch 80/250\n",
            "3917/3917 [==============================] - 170s 43ms/step - loss: 0.7681 - accuracy: 0.7907\n",
            "Epoch 81/250\n",
            "3917/3917 [==============================] - 175s 45ms/step - loss: 0.7724 - accuracy: 0.7899\n",
            "Epoch 82/250\n",
            "3917/3917 [==============================] - 179s 46ms/step - loss: 0.7720 - accuracy: 0.7907\n",
            "Epoch 83/250\n",
            "3917/3917 [==============================] - 178s 46ms/step - loss: 0.7648 - accuracy: 0.7908\n",
            "Epoch 84/250\n",
            "3917/3917 [==============================] - 161s 41ms/step - loss: 0.7657 - accuracy: 0.7911\n",
            "Epoch 85/250\n",
            "3917/3917 [==============================] - 180s 46ms/step - loss: 0.7617 - accuracy: 0.7920\n",
            "Epoch 86/250\n",
            "3917/3917 [==============================] - 179s 46ms/step - loss: 0.7653 - accuracy: 0.7912\n",
            "Epoch 87/250\n",
            "3917/3917 [==============================] - 180s 46ms/step - loss: 0.7648 - accuracy: 0.7908\n",
            "Epoch 88/250\n",
            "3917/3917 [==============================] - 131s 33ms/step - loss: 0.7602 - accuracy: 0.7938\n",
            "Epoch 89/250\n",
            "3917/3917 [==============================] - 119s 30ms/step - loss: 0.7711 - accuracy: 0.7916\n",
            "Epoch 90/250\n",
            "3917/3917 [==============================] - 112s 29ms/step - loss: 0.7585 - accuracy: 0.7931\n",
            "Epoch 91/250\n",
            "3917/3917 [==============================] - 111s 28ms/step - loss: 0.7672 - accuracy: 0.7908\n",
            "Epoch 92/250\n",
            "3917/3917 [==============================] - 112s 29ms/step - loss: 0.7622 - accuracy: 0.7929\n",
            "Epoch 93/250\n",
            "3917/3917 [==============================] - 112s 29ms/step - loss: 0.7610 - accuracy: 0.7921\n",
            "Epoch 94/250\n",
            "3917/3917 [==============================] - 113s 29ms/step - loss: 0.7594 - accuracy: 0.7934\n",
            "Epoch 95/250\n",
            "3917/3917 [==============================] - 128s 33ms/step - loss: 0.7645 - accuracy: 0.7923\n",
            "Epoch 96/250\n",
            "3917/3917 [==============================] - 133s 34ms/step - loss: 0.7683 - accuracy: 0.7914\n",
            "Epoch 97/250\n",
            "3917/3917 [==============================] - 117s 30ms/step - loss: 0.7599 - accuracy: 0.7920\n",
            "Epoch 98/250\n",
            "3917/3917 [==============================] - 113s 29ms/step - loss: 0.7635 - accuracy: 0.7916\n",
            "Epoch 99/250\n",
            "3917/3917 [==============================] - 113s 29ms/step - loss: 0.7688 - accuracy: 0.7905\n",
            "Epoch 100/250\n",
            "3917/3917 [==============================] - 112s 29ms/step - loss: 0.7675 - accuracy: 0.7912\n",
            "Epoch 101/250\n",
            "3917/3917 [==============================] - 112s 29ms/step - loss: 0.7651 - accuracy: 0.7906\n",
            "Epoch 102/250\n",
            "3917/3917 [==============================] - 107s 27ms/step - loss: 0.7706 - accuracy: 0.7903\n",
            "Epoch 103/250\n",
            "3917/3917 [==============================] - 106s 27ms/step - loss: 0.7648 - accuracy: 0.7909\n",
            "Epoch 104/250\n",
            "3917/3917 [==============================] - 111s 28ms/step - loss: 0.7685 - accuracy: 0.7896\n",
            "Epoch 105/250\n",
            "3917/3917 [==============================] - 110s 28ms/step - loss: 0.7624 - accuracy: 0.7917\n",
            "Epoch 106/250\n",
            "3917/3917 [==============================] - 111s 28ms/step - loss: 0.7597 - accuracy: 0.7926\n",
            "Epoch 107/250\n",
            "3917/3917 [==============================] - 110s 28ms/step - loss: 0.7681 - accuracy: 0.7903\n",
            "Epoch 108/250\n",
            "3917/3917 [==============================] - 111s 28ms/step - loss: 0.7679 - accuracy: 0.7906\n",
            "Epoch 109/250\n",
            "3917/3917 [==============================] - 109s 28ms/step - loss: 0.7669 - accuracy: 0.7905\n",
            "Epoch 110/250\n",
            "3917/3917 [==============================] - 112s 29ms/step - loss: 0.7695 - accuracy: 0.7894\n",
            "Epoch 111/250\n",
            "3917/3917 [==============================] - 112s 28ms/step - loss: 0.7650 - accuracy: 0.7913\n",
            "Epoch 112/250\n",
            "3917/3917 [==============================] - 112s 28ms/step - loss: 0.7686 - accuracy: 0.7880\n",
            "Epoch 113/250\n",
            "3917/3917 [==============================] - 111s 28ms/step - loss: 0.7755 - accuracy: 0.7883\n",
            "Epoch 114/250\n",
            "3917/3917 [==============================] - 111s 28ms/step - loss: 0.7739 - accuracy: 0.7888\n",
            "Epoch 115/250\n",
            "3917/3917 [==============================] - 113s 29ms/step - loss: 0.7798 - accuracy: 0.7870\n",
            "Epoch 116/250\n",
            "3917/3917 [==============================] - 111s 28ms/step - loss: 0.7680 - accuracy: 0.7898\n",
            "Epoch 117/250\n",
            "3917/3917 [==============================] - 110s 28ms/step - loss: 0.7675 - accuracy: 0.7899\n",
            "Epoch 118/250\n",
            "3917/3917 [==============================] - 111s 28ms/step - loss: 0.7700 - accuracy: 0.7897\n",
            "Epoch 119/250\n",
            "3917/3917 [==============================] - 143s 37ms/step - loss: 0.7695 - accuracy: 0.7893\n",
            "Epoch 120/250\n",
            "3917/3917 [==============================] - 146s 37ms/step - loss: 0.7642 - accuracy: 0.7908\n",
            "Epoch 121/250\n",
            "3917/3917 [==============================] - 133s 34ms/step - loss: 0.7707 - accuracy: 0.7894\n",
            "Epoch 122/250\n",
            "3917/3917 [==============================] - 127s 32ms/step - loss: 0.7641 - accuracy: 0.7918\n",
            "Epoch 123/250\n",
            "3917/3917 [==============================] - 124s 32ms/step - loss: 0.7603 - accuracy: 0.7910\n",
            "Epoch 124/250\n",
            "3917/3917 [==============================] - 128s 33ms/step - loss: 0.7777 - accuracy: 0.7888\n",
            "Epoch 125/250\n",
            "3917/3917 [==============================] - 155s 40ms/step - loss: 0.7650 - accuracy: 0.7908\n",
            "Epoch 126/250\n",
            "3917/3917 [==============================] - 96s 24ms/step - loss: 0.7771 - accuracy: 0.7882\n",
            "Epoch 127/250\n",
            "3917/3917 [==============================] - 94s 24ms/step - loss: 0.7755 - accuracy: 0.7889\n",
            "Epoch 128/250\n",
            "3917/3917 [==============================] - 124s 32ms/step - loss: 0.7769 - accuracy: 0.7885\n",
            "Epoch 129/250\n",
            "3917/3917 [==============================] - 122s 31ms/step - loss: 0.7741 - accuracy: 0.7897\n",
            "Epoch 130/250\n",
            "3917/3917 [==============================] - 123s 31ms/step - loss: 0.7796 - accuracy: 0.7870\n",
            "Epoch 131/250\n",
            "3917/3917 [==============================] - 182s 46ms/step - loss: 0.7701 - accuracy: 0.7900\n",
            "Epoch 132/250\n",
            "3917/3917 [==============================] - 184s 47ms/step - loss: 0.7751 - accuracy: 0.7891\n",
            "Epoch 133/250\n",
            "3917/3917 [==============================] - 141s 36ms/step - loss: 0.7683 - accuracy: 0.7907\n",
            "Epoch 134/250\n",
            "3917/3917 [==============================] - 133s 34ms/step - loss: 0.7719 - accuracy: 0.7895\n",
            "Epoch 135/250\n",
            "3917/3917 [==============================] - 133s 34ms/step - loss: 0.7796 - accuracy: 0.7873\n",
            "Epoch 136/250\n",
            "3917/3917 [==============================] - 129s 33ms/step - loss: 0.7753 - accuracy: 0.7880\n",
            "Epoch 137/250\n",
            "3917/3917 [==============================] - 131s 33ms/step - loss: 0.7792 - accuracy: 0.7868\n",
            "Epoch 138/250\n",
            "3917/3917 [==============================] - 131s 33ms/step - loss: 0.7801 - accuracy: 0.7874\n",
            "Epoch 139/250\n",
            "3917/3917 [==============================] - 131s 33ms/step - loss: 0.7782 - accuracy: 0.7879\n",
            "Epoch 140/250\n",
            "3917/3917 [==============================] - 120s 31ms/step - loss: 0.7721 - accuracy: 0.7887\n",
            "Epoch 141/250\n",
            "3917/3917 [==============================] - 130s 33ms/step - loss: 0.7785 - accuracy: 0.7878\n",
            "Epoch 142/250\n",
            "3917/3917 [==============================] - 134s 34ms/step - loss: 0.7785 - accuracy: 0.7879\n",
            "Epoch 143/250\n",
            "3917/3917 [==============================] - 125s 32ms/step - loss: 0.7819 - accuracy: 0.7863\n",
            "Epoch 144/250\n",
            "3917/3917 [==============================] - 122s 31ms/step - loss: 0.7752 - accuracy: 0.7887\n",
            "Epoch 145/250\n",
            "3917/3917 [==============================] - 134s 34ms/step - loss: 0.7782 - accuracy: 0.7886\n",
            "Epoch 146/250\n",
            "3917/3917 [==============================] - 134s 34ms/step - loss: 0.7821 - accuracy: 0.7866\n",
            "Epoch 147/250\n",
            "3917/3917 [==============================] - 123s 31ms/step - loss: 0.7804 - accuracy: 0.7870\n",
            "Epoch 148/250\n",
            "3917/3917 [==============================] - 134s 34ms/step - loss: 0.7838 - accuracy: 0.7868\n",
            "Epoch 149/250\n",
            "3917/3917 [==============================] - 131s 33ms/step - loss: 0.7864 - accuracy: 0.7862\n",
            "Epoch 150/250\n",
            "3917/3917 [==============================] - 117s 30ms/step - loss: 0.7861 - accuracy: 0.7864\n",
            "Epoch 151/250\n",
            "3917/3917 [==============================] - 115s 29ms/step - loss: 0.7776 - accuracy: 0.7880\n",
            "Epoch 152/250\n",
            "3917/3917 [==============================] - 116s 30ms/step - loss: 0.7890 - accuracy: 0.7853\n",
            "Epoch 153/250\n",
            "3917/3917 [==============================] - 115s 29ms/step - loss: 0.7883 - accuracy: 0.7857\n",
            "Epoch 154/250\n",
            "3917/3917 [==============================] - 116s 29ms/step - loss: 0.7897 - accuracy: 0.7849\n",
            "Epoch 155/250\n",
            "3917/3917 [==============================] - 115s 29ms/step - loss: 0.7891 - accuracy: 0.7853\n",
            "Epoch 156/250\n",
            "3917/3917 [==============================] - 113s 29ms/step - loss: 0.7917 - accuracy: 0.7853\n",
            "Epoch 157/250\n",
            "3917/3917 [==============================] - 113s 29ms/step - loss: 0.7888 - accuracy: 0.7849\n",
            "Epoch 158/250\n",
            "3917/3917 [==============================] - 115s 29ms/step - loss: 0.7819 - accuracy: 0.7869\n",
            "Epoch 159/250\n",
            "3917/3917 [==============================] - 116s 30ms/step - loss: 0.7943 - accuracy: 0.7829\n",
            "Epoch 160/250\n",
            "3917/3917 [==============================] - 127s 33ms/step - loss: 0.7878 - accuracy: 0.7852\n",
            "Epoch 161/250\n",
            "3917/3917 [==============================] - 134s 34ms/step - loss: 0.7944 - accuracy: 0.7842\n",
            "Epoch 162/250\n",
            "3917/3917 [==============================] - 132s 34ms/step - loss: 0.7853 - accuracy: 0.7863\n",
            "Epoch 163/250\n",
            "3917/3917 [==============================] - 136s 35ms/step - loss: 0.7875 - accuracy: 0.7873\n",
            "Epoch 164/250\n",
            "3917/3917 [==============================] - 131s 33ms/step - loss: 0.7949 - accuracy: 0.7830\n",
            "Epoch 165/250\n",
            "3917/3917 [==============================] - 130s 33ms/step - loss: 0.7945 - accuracy: 0.7831\n",
            "Epoch 166/250\n",
            "3917/3917 [==============================] - 117s 30ms/step - loss: 0.7918 - accuracy: 0.7854\n",
            "Epoch 167/250\n",
            "3917/3917 [==============================] - 120s 31ms/step - loss: 0.7916 - accuracy: 0.7840\n",
            "Epoch 168/250\n",
            "3917/3917 [==============================] - 115s 29ms/step - loss: 0.7889 - accuracy: 0.7859\n",
            "Epoch 169/250\n",
            "3917/3917 [==============================] - 125s 32ms/step - loss: 0.7922 - accuracy: 0.7845\n",
            "Epoch 170/250\n",
            "3917/3917 [==============================] - 130s 33ms/step - loss: 0.7881 - accuracy: 0.7852\n",
            "Epoch 171/250\n",
            "3917/3917 [==============================] - 125s 32ms/step - loss: 0.7973 - accuracy: 0.7844\n",
            "Epoch 172/250\n",
            "3917/3917 [==============================] - 129s 33ms/step - loss: 0.7969 - accuracy: 0.7834\n",
            "Epoch 173/250\n",
            "3917/3917 [==============================] - 117s 30ms/step - loss: 0.7967 - accuracy: 0.7838\n",
            "Epoch 174/250\n",
            "3917/3917 [==============================] - 116s 30ms/step - loss: 0.7980 - accuracy: 0.7834\n",
            "Epoch 175/250\n",
            "3917/3917 [==============================] - 117s 30ms/step - loss: 0.7908 - accuracy: 0.7863\n",
            "Epoch 176/250\n",
            "3917/3917 [==============================] - 113s 29ms/step - loss: 0.7936 - accuracy: 0.7834\n",
            "Epoch 177/250\n",
            "3917/3917 [==============================] - 116s 30ms/step - loss: 0.7988 - accuracy: 0.7835\n",
            "Epoch 178/250\n",
            "3917/3917 [==============================] - 115s 29ms/step - loss: 0.7952 - accuracy: 0.7842\n",
            "Epoch 179/250\n",
            "3917/3917 [==============================] - 115s 29ms/step - loss: 0.7969 - accuracy: 0.7830\n",
            "Epoch 180/250\n",
            "3917/3917 [==============================] - 116s 30ms/step - loss: 0.7965 - accuracy: 0.7841\n",
            "Epoch 181/250\n",
            "3917/3917 [==============================] - 115s 29ms/step - loss: 0.7968 - accuracy: 0.7836\n",
            "Epoch 182/250\n",
            "3917/3917 [==============================] - 115s 29ms/step - loss: 0.7981 - accuracy: 0.7828\n",
            "Epoch 183/250\n",
            "3917/3917 [==============================] - 160s 41ms/step - loss: 0.8010 - accuracy: 0.7826\n",
            "Epoch 184/250\n",
            "3917/3917 [==============================] - 126s 32ms/step - loss: 0.7965 - accuracy: 0.7842\n",
            "Epoch 185/250\n",
            "3917/3917 [==============================] - 124s 32ms/step - loss: 0.7973 - accuracy: 0.7833\n",
            "Epoch 186/250\n",
            "3917/3917 [==============================] - 123s 31ms/step - loss: 0.8029 - accuracy: 0.7817\n",
            "Epoch 187/250\n",
            "3917/3917 [==============================] - 116s 29ms/step - loss: 0.7938 - accuracy: 0.7848\n",
            "Epoch 188/250\n",
            "3917/3917 [==============================] - 117s 30ms/step - loss: 0.8095 - accuracy: 0.7800\n",
            "Epoch 189/250\n",
            "3917/3917 [==============================] - 117s 30ms/step - loss: 0.7974 - accuracy: 0.7842\n",
            "Epoch 190/250\n",
            "3917/3917 [==============================] - 119s 30ms/step - loss: 0.8014 - accuracy: 0.7824\n",
            "Epoch 191/250\n",
            "3917/3917 [==============================] - 117s 30ms/step - loss: 0.7992 - accuracy: 0.7836\n",
            "Epoch 192/250\n",
            "3917/3917 [==============================] - 118s 30ms/step - loss: 0.7997 - accuracy: 0.7823\n",
            "Epoch 193/250\n",
            "3917/3917 [==============================] - 118s 30ms/step - loss: 0.8079 - accuracy: 0.7820\n",
            "Epoch 194/250\n",
            "3917/3917 [==============================] - 120s 31ms/step - loss: 0.8001 - accuracy: 0.7818\n",
            "Epoch 195/250\n",
            "3917/3917 [==============================] - 123s 31ms/step - loss: 0.8022 - accuracy: 0.7813\n",
            "Epoch 196/250\n",
            "3917/3917 [==============================] - 117s 30ms/step - loss: 0.8067 - accuracy: 0.7810\n",
            "Epoch 197/250\n",
            "3917/3917 [==============================] - 116s 30ms/step - loss: 0.8007 - accuracy: 0.7827\n",
            "Epoch 198/250\n",
            "3917/3917 [==============================] - 116s 30ms/step - loss: 0.8132 - accuracy: 0.7808\n",
            "Epoch 199/250\n",
            "3917/3917 [==============================] - 106s 27ms/step - loss: 0.8110 - accuracy: 0.7792\n",
            "Epoch 200/250\n",
            "3917/3917 [==============================] - 106s 27ms/step - loss: 0.8179 - accuracy: 0.7790\n",
            "Epoch 201/250\n",
            "3917/3917 [==============================] - 142s 36ms/step - loss: 0.8063 - accuracy: 0.7814\n",
            "Epoch 202/250\n",
            "3917/3917 [==============================] - 143s 36ms/step - loss: 0.8143 - accuracy: 0.7789\n",
            "Epoch 203/250\n",
            "3917/3917 [==============================] - 143s 36ms/step - loss: 0.8098 - accuracy: 0.7803\n",
            "Epoch 204/250\n",
            "3917/3917 [==============================] - 112s 29ms/step - loss: 0.8179 - accuracy: 0.7799\n",
            "Epoch 205/250\n",
            "3917/3917 [==============================] - 112s 28ms/step - loss: 0.8195 - accuracy: 0.7780\n",
            "Epoch 206/250\n",
            "3917/3917 [==============================] - 109s 28ms/step - loss: 0.8133 - accuracy: 0.7806\n",
            "Epoch 207/250\n",
            "3917/3917 [==============================] - 109s 28ms/step - loss: 0.8118 - accuracy: 0.7815\n",
            "Epoch 208/250\n",
            "3917/3917 [==============================] - 108s 28ms/step - loss: 0.8130 - accuracy: 0.7793\n",
            "Epoch 209/250\n",
            "3917/3917 [==============================] - 112s 29ms/step - loss: 0.8173 - accuracy: 0.7786\n",
            "Epoch 210/250\n",
            "3917/3917 [==============================] - 109s 28ms/step - loss: 0.8256 - accuracy: 0.7775\n",
            "Epoch 211/250\n",
            "3917/3917 [==============================] - 131s 33ms/step - loss: 0.8165 - accuracy: 0.7791\n",
            "Epoch 212/250\n",
            "3917/3917 [==============================] - 134s 34ms/step - loss: 0.8185 - accuracy: 0.7799\n",
            "Epoch 213/250\n",
            "3917/3917 [==============================] - 132s 34ms/step - loss: 0.8182 - accuracy: 0.7773\n",
            "Epoch 214/250\n",
            "3917/3917 [==============================] - 128s 33ms/step - loss: 0.8306 - accuracy: 0.7762\n",
            "Epoch 215/250\n",
            "3917/3917 [==============================] - 133s 34ms/step - loss: 0.8281 - accuracy: 0.7763\n",
            "Epoch 216/250\n",
            "3917/3917 [==============================] - 129s 33ms/step - loss: 0.8227 - accuracy: 0.7778\n",
            "Epoch 217/250\n",
            "3917/3917 [==============================] - 112s 29ms/step - loss: 0.8145 - accuracy: 0.7809\n",
            "Epoch 218/250\n",
            "3917/3917 [==============================] - 120s 31ms/step - loss: 0.8278 - accuracy: 0.7757\n",
            "Epoch 219/250\n",
            "3917/3917 [==============================] - 126s 32ms/step - loss: 0.8253 - accuracy: 0.7764\n",
            "Epoch 220/250\n",
            "3917/3917 [==============================] - 110s 28ms/step - loss: 0.8240 - accuracy: 0.7781\n",
            "Epoch 221/250\n",
            "3917/3917 [==============================] - 111s 28ms/step - loss: 0.8259 - accuracy: 0.7767\n",
            "Epoch 222/250\n",
            "3917/3917 [==============================] - 111s 28ms/step - loss: 0.8229 - accuracy: 0.7766\n",
            "Epoch 223/250\n",
            "3917/3917 [==============================] - 113s 29ms/step - loss: 0.8289 - accuracy: 0.7755\n",
            "Epoch 224/250\n",
            "3917/3917 [==============================] - 112s 29ms/step - loss: 0.8300 - accuracy: 0.7758\n",
            "Epoch 225/250\n",
            "3917/3917 [==============================] - 112s 28ms/step - loss: 0.8436 - accuracy: 0.7731\n",
            "Epoch 226/250\n",
            "3917/3917 [==============================] - 112s 29ms/step - loss: 0.8384 - accuracy: 0.7745\n",
            "Epoch 227/250\n",
            "3917/3917 [==============================] - 116s 30ms/step - loss: 0.8366 - accuracy: 0.7745\n",
            "Epoch 228/250\n",
            "3917/3917 [==============================] - 111s 28ms/step - loss: 0.8370 - accuracy: 0.7754\n",
            "Epoch 229/250\n",
            "3917/3917 [==============================] - 128s 33ms/step - loss: 0.8343 - accuracy: 0.7749\n",
            "Epoch 230/250\n",
            "3917/3917 [==============================] - 137s 35ms/step - loss: 0.8384 - accuracy: 0.7750\n",
            "Epoch 231/250\n",
            "3917/3917 [==============================] - 140s 36ms/step - loss: 0.8324 - accuracy: 0.7754\n",
            "Epoch 232/250\n",
            "3917/3917 [==============================] - 137s 35ms/step - loss: 0.8262 - accuracy: 0.7765\n",
            "Epoch 233/250\n",
            "3917/3917 [==============================] - 176s 45ms/step - loss: 0.8346 - accuracy: 0.7744\n",
            "Epoch 234/250\n",
            "3917/3917 [==============================] - 169s 43ms/step - loss: 0.8353 - accuracy: 0.7743\n",
            "Epoch 235/250\n",
            "3917/3917 [==============================] - 181s 46ms/step - loss: 0.8423 - accuracy: 0.7730\n",
            "Epoch 236/250\n",
            "3917/3917 [==============================] - 179s 46ms/step - loss: 0.8295 - accuracy: 0.7742\n",
            "Epoch 237/250\n",
            "3917/3917 [==============================] - 173s 44ms/step - loss: 0.8311 - accuracy: 0.7764\n",
            "Epoch 238/250\n",
            "3917/3917 [==============================] - 177s 45ms/step - loss: 0.8357 - accuracy: 0.7745\n",
            "Epoch 239/250\n",
            "3917/3917 [==============================] - 154s 39ms/step - loss: 0.8391 - accuracy: 0.7737\n",
            "Epoch 240/250\n",
            "3917/3917 [==============================] - 145s 37ms/step - loss: 0.8359 - accuracy: 0.7742\n",
            "Epoch 241/250\n",
            "3917/3917 [==============================] - 140s 36ms/step - loss: 0.8396 - accuracy: 0.7737\n",
            "Epoch 242/250\n",
            "3917/3917 [==============================] - 133s 34ms/step - loss: 0.8288 - accuracy: 0.7768\n",
            "Epoch 243/250\n",
            "3917/3917 [==============================] - 132s 34ms/step - loss: 0.8367 - accuracy: 0.7744\n",
            "Epoch 244/250\n",
            "3917/3917 [==============================] - 130s 33ms/step - loss: 0.8364 - accuracy: 0.7756\n",
            "Epoch 245/250\n",
            "3917/3917 [==============================] - 134s 34ms/step - loss: 0.8313 - accuracy: 0.7765\n",
            "Epoch 246/250\n",
            "3917/3917 [==============================] - 133s 34ms/step - loss: 0.8340 - accuracy: 0.7749\n",
            "Epoch 247/250\n",
            "3917/3917 [==============================] - 133s 34ms/step - loss: 0.8412 - accuracy: 0.7739\n",
            "Epoch 248/250\n",
            "3917/3917 [==============================] - 132s 34ms/step - loss: 0.8345 - accuracy: 0.7754\n",
            "Epoch 249/250\n",
            "3917/3917 [==============================] - 128s 33ms/step - loss: 0.8332 - accuracy: 0.7759\n",
            "Epoch 250/250\n",
            "3917/3917 [==============================] - 177s 45ms/step - loss: 0.8512 - accuracy: 0.7718\n"
          ],
          "name": "stdout"
        }
      ]
    },
    {
      "cell_type": "code",
      "metadata": {
        "id": "1fXTEO3GJ282",
        "colab": {
          "base_uri": "https://localhost:8080/",
          "height": 545
        },
        "outputId": "fdb8e154-779d-4f59-9d9b-7c1ee6f687d4"
      },
      "source": [
        "import matplotlib.pyplot as plt\n",
        "acc = history.history['accuracy']\n",
        "loss = history.history['loss']\n",
        "\n",
        "epochs = range(len(acc))\n",
        "\n",
        "plt.plot(epochs, acc, 'b', label='Training accuracy')\n",
        "plt.title('Training accuracy')\n",
        "\n",
        "plt.figure()\n",
        "\n",
        "plt.plot(epochs, loss, 'b', label='Training Loss')\n",
        "plt.title('Training loss')\n",
        "plt.legend()\n",
        "\n",
        "plt.show()"
      ],
      "execution_count": 17,
      "outputs": [
        {
          "output_type": "display_data",
          "data": {
            "image/png": "[encoded data removed]",
            "text/plain": [
              "<Figure size 432x288 with 1 Axes>"
            ]
          },
          "metadata": {
            "tags": [],
            "needs_background": "light"
          }
        },
        {
          "output_type": "display_data",
          "data": {
            "image/png": "[encoded data removed]",
            "text/plain": [
              "<Figure size 432x288 with 1 Axes>"
            ]
          },
          "metadata": {
            "tags": [],
            "needs_background": "light"
          }
        }
      ]
    },
    {
      "cell_type": "code",
      "metadata": {
        "id": "6Vc6PHgxa6Hm",
        "colab": {
          "base_uri": "https://localhost:8080/"
        },
        "outputId": "bfb24c2d-a9b2-44d0-c327-ecb684db77f8"
      },
      "source": [
        "text = \"bentuk\"\n",
        "print('input: '+text)\n",
        "print('nomor itu accuracy')\n",
        "\n",
        "token_list = tokenizer.texts_to_sequences([text])[0]\n",
        "token_list = pad_sequences([token_list], maxlen=max_sequence_len - 1, padding='pre')\n",
        "\n",
        "predictions = model.predict(token_list)\n",
        "\n",
        "indices = np.argpartition(predictions, -5)[0][-5:]\n",
        "\n",
        "results = {}\n",
        "for index in indices:\n",
        "  key = [k for (k, v) in tokenizer.word_index.items() if v == index]\n",
        "  results.update({key[0]: predictions[0, index]})\n",
        "\n",
        "  results = {k: v for k, v in sorted(results.items(), key=lambda item: item[1], reverse=True)}\n",
        "\n",
        "print(\"{}\".format(results))\n",
        "for i in results:\n",
        "  print(text+\" \"+i.)"
      ],
      "execution_count": 25,
      "outputs": [
        {
          "output_type": "stream",
          "text": [
            "input: bentuk\n",
            "nomor itu accuracy\n",
            "{'diskriminasi': 0.26111978, 'penganiayaan': 0.19067019, 'dan': 0.1872357, 'instrumennya': 0.07851881, 'pemerintahan': 0.069880046}\n",
            "bentuk diskriminasi\n",
            "bentuk penganiayaan\n",
            "bentuk dan\n",
            "bentuk instrumennya\n",
            "bentuk pemerintahan\n"
          ],
          "name": "stdout"
        }
      ]
    },
    {
      "cell_type": "code",
      "metadata": {
        "colab": {
          "base_uri": "https://localhost:8080/"
        },
        "id": "I7mM_ztYyVfm",
        "outputId": "fa8b7d60-04af-47cc-8f88-6fd4cff951a6"
      },
      "source": [
        "model.save('/content/saved_prototype_model/my_model')"
      ],
      "execution_count": 26,
      "outputs": [
        {
          "output_type": "stream",
          "text": [
            "WARNING:absl:Found untraced functions such as lstm_cell_5_layer_call_fn, lstm_cell_5_layer_call_and_return_conditional_losses, lstm_cell_6_layer_call_fn, lstm_cell_6_layer_call_and_return_conditional_losses, lstm_cell_8_layer_call_fn while saving (showing 5 of 20). These functions will not be directly callable after loading.\n"
          ],
          "name": "stderr"
        },
        {
          "output_type": "stream",
          "text": [
            "INFO:tensorflow:Assets written to: /content/saved_prototype_model/my_model/assets\n"
          ],
          "name": "stdout"
        },
        {
          "output_type": "stream",
          "text": [
            "INFO:tensorflow:Assets written to: /content/saved_prototype_model/my_model/assets\n"
          ],
          "name": "stderr"
        }
      ]
    },
    {
      "cell_type": "code",
      "metadata": {
        "id": "ojrV_gqHy958"
      },
      "source": [
        "model.save('/content/saved_prototype_model_HDF5/my_model.h5')"
      ],
      "execution_count": 27,
      "outputs": []
    },
    {
      "cell_type": "code",
      "metadata": {
        "id": "o4F_LDFZ1HSV"
      },
      "source": [
        "import pathlib"
      ],
      "execution_count": 32,
      "outputs": []
    },
    {
      "cell_type": "code",
      "metadata": {
        "id": "AsYRWkBtzkc1"
      },
      "source": [
        "converter = tf.lite.TFLiteConverter.from_saved_model('/content/saved_prototype_model/my_model')\n",
        "converter.optimizations = [tf.lite.Optimize.OPTIMIZE_FOR_SIZE]\n",
        "tflite_model = converter.convert()"
      ],
      "execution_count": 29,
      "outputs": []
    },
    {
      "cell_type": "code",
      "metadata": {
        "colab": {
          "base_uri": "https://localhost:8080/"
        },
        "id": "5-89WmXv0oRL",
        "outputId": "60c5b4f3-a130-455f-a896-837b8b08d110"
      },
      "source": [
        "tflite_model_file = pathlib.Path('./modelSizeOptimize.tflite')\n",
        "tflite_model_file.write_bytes(tflite_model)"
      ],
      "execution_count": 34,
      "outputs": [
        {
          "output_type": "execute_result",
          "data": {
            "text/plain": [
              "8723616"
            ]
          },
          "metadata": {
            "tags": []
          },
          "execution_count": 34
        }
      ]
    },
    {
      "cell_type": "code",
      "metadata": {
        "colab": {
          "base_uri": "https://localhost:8080/"
        },
        "id": "TUbbILxr1fFl",
        "outputId": "2af589d1-96cc-4df5-ca70-fa3a359130ac"
      },
      "source": [
        "converter.optimizations = [tf.lite.Optimize.OPTIMIZE_FOR_LATENCY]\n",
        "tflite_model = converter.convert()\n",
        "tflite_model_file = pathlib.Path('./modelLatencyOptimize.tflite')\n",
        "tflite_model_file.write_bytes(tflite_model)"
      ],
      "execution_count": 35,
      "outputs": [
        {
          "output_type": "execute_result",
          "data": {
            "text/plain": [
              "8723616"
            ]
          },
          "metadata": {
            "tags": []
          },
          "execution_count": 35
        }
      ]
    },
    {
      "cell_type": "code",
      "metadata": {
        "colab": {
          "base_uri": "https://localhost:8080/"
        },
        "id": "sTdAybrB19TX",
        "outputId": "e292e43b-047d-4f61-dcb9-ae9e18b2775d"
      },
      "source": [
        "converter.optimizations = [tf.lite.Optimize.DEFAULT]\n",
        "tflite_model = converter.convert()\n",
        "tflite_model_file = pathlib.Path('./modelDefaultOptimize.tflite')\n",
        "tflite_model_file.write_bytes(tflite_model)"
      ],
      "execution_count": 36,
      "outputs": [
        {
          "output_type": "execute_result",
          "data": {
            "text/plain": [
              "8723616"
            ]
          },
          "metadata": {
            "tags": []
          },
          "execution_count": 36
        }
      ]
    },
    {
      "cell_type": "code",
      "metadata": {
        "colab": {
          "base_uri": "https://localhost:8080/"
        },
        "id": "eVpIP0f-2Z_k",
        "outputId": "4e7ea54d-46d2-4891-e628-d03fd0dac3ac"
      },
      "source": [
        "!zip -r /content/Model.zip /content/Model"
      ],
      "execution_count": 37,
      "outputs": [
        {
          "output_type": "stream",
          "text": [
            "  adding: content/Model/ (stored 0%)\n",
            "  adding: content/Model/saved_prototype_model/ (stored 0%)\n",
            "  adding: content/Model/saved_prototype_model/my_model/ (stored 0%)\n",
            "  adding: content/Model/saved_prototype_model/my_model/keras_metadata.pb (deflated 92%)\n",
            "  adding: content/Model/saved_prototype_model/my_model/variables/ (stored 0%)\n",
            "  adding: content/Model/saved_prototype_model/my_model/variables/variables.index (deflated 70%)\n",
            "  adding: content/Model/saved_prototype_model/my_model/variables/variables.data-00000-of-00001 (deflated 8%)\n",
            "  adding: content/Model/saved_prototype_model/my_model/saved_model.pb (deflated 90%)\n",
            "  adding: content/Model/saved_prototype_model/my_model/assets/ (stored 0%)\n",
            "  adding: content/Model/saved_prototype_model_HDF5/ (stored 0%)\n",
            "  adding: content/Model/saved_prototype_model_HDF5/my_model.h5 (deflated 8%)\n"
          ],
          "name": "stdout"
        }
      ]
    },
    {
      "cell_type": "code",
      "metadata": {
        "id": "ONTvEcDC3G_S"
      },
      "source": [
        ""
      ],
      "execution_count": null,
      "outputs": []
    }
  ]
}