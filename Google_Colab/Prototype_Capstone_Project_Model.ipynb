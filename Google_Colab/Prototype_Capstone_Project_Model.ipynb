{
  "nbformat": 4,
  "nbformat_minor": 0,
  "metadata": {
    "accelerator": "GPU",
    "colab": {
      "name": "Prototype Capstone Project Model 2.ipynb",
      "provenance": [],
      "machine_shape": "hm",
      "include_colab_link": true
    },
    "kernelspec": {
      "display_name": "Python 3",
      "name": "python3"
    }
  },
  "cells": [
    {
      "cell_type": "markdown",
      "metadata": {
        "id": "view-in-github",
        "colab_type": "text"
      },
      "source": [
        "<a href=\"https://colab.research.google.com/github/ahmadcah/Hukumpedia/blob/master/Google_Colab/Prototype_Capstone_Project_Model.ipynb\" target=\"_parent\"><img src=\"https://colab.research.google.com/assets/colab-badge.svg\" alt=\"Open In Colab\"/></a>"
      ]
    },
    {
      "cell_type": "code",
      "metadata": {
        "colab": {
          "base_uri": "https://localhost:8080/"
        },
        "id": "COlouE3oMQj3",
        "outputId": "3b74a765-0e4e-48b4-f85c-968fd09f3570"
      },
      "source": [
        "from google.colab import drive\n",
        "drive.mount('/content/drive')"
      ],
      "execution_count": 1,
      "outputs": [
        {
          "output_type": "stream",
          "text": [
            "Drive already mounted at /content/drive; to attempt to forcibly remount, call drive.mount(\"/content/drive\", force_remount=True).\n"
          ],
          "name": "stdout"
        }
      ]
    },
    {
      "cell_type": "code",
      "metadata": {
        "id": "BOwsuGQQY9OL"
      },
      "source": [
        "from tensorflow.keras.preprocessing.sequence import pad_sequences\n",
        "from tensorflow.keras.layers import Embedding, LSTM, Dense, Dropout, Bidirectional\n",
        "from tensorflow.keras.preprocessing.text import Tokenizer\n",
        "from tensorflow.keras.models import Sequential\n",
        "import tensorflow as tf\n",
        "import numpy as np \n",
        "import string"
      ],
      "execution_count": 2,
      "outputs": []
    },
    {
      "cell_type": "code",
      "metadata": {
        "colab": {
          "base_uri": "https://localhost:8080/",
          "height": 73
        },
        "id": "HaVBgWGCI1FS",
        "outputId": "29672fae-3ece-48b5-acae-77eb8e52d210"
      },
      "source": [
        "realCorpus = []\n",
        "with open('/content/drive/MyDrive/MergedData.txt', 'rb') as f:\n",
        "  data = ''.join([x.decode('utf-8') for x in f.readlines()])\n",
        "  data = data.lower().replace('\\n', '').replace('\\r', '').replace('\\ufeff', '')\n",
        "data[:400]"
      ],
      "execution_count": 3,
      "outputs": [
        {
          "output_type": "execute_result",
          "data": {
            "application/vnd.google.colaboratory.intrinsic+json": {
              "type": "string"
            },
            "text/plain": [
              "'                           deklarasi universal                          hak-hak asasi manusia                         diterima dan diumumkan oleh majelis umum pbb                     pada tanggal 10 desember 1948 melalui resolusi 217 a (iii)                                          mukadimahmenimbang, bahwa pengakuan atas martabat alamiah dan hak-hak yang sama dan tidak dapatdicabut dari semua ang'"
            ]
          },
          "metadata": {
            "tags": []
          },
          "execution_count": 3
        }
      ]
    },
    {
      "cell_type": "code",
      "metadata": {
        "colab": {
          "base_uri": "https://localhost:8080/"
        },
        "id": "Ug_kh6E3CpWJ",
        "outputId": "ac2a3a55-51e2-4473-f64a-139b84fcf72c"
      },
      "source": [
        "translator = str.maketrans(string.punctuation, ' '*len(string.punctuation))\n",
        "new_data = data.translate(translator)\n",
        "splitData = new_data.split()\n",
        "splitDataLength = len(splitData)\n",
        "print(splitDataLength)"
      ],
      "execution_count": 13,
      "outputs": [
        {
          "output_type": "stream",
          "text": [
            "559754\n"
          ],
          "name": "stdout"
        }
      ]
    },
    {
      "cell_type": "code",
      "metadata": {
        "colab": {
          "base_uri": "https://localhost:8080/"
        },
        "id": "bxrdFUZ_G5Z0",
        "outputId": "4abb4c1b-c68e-4bc5-8756-1a1e8f05981d"
      },
      "source": [
        "temp = []\n",
        "for i in splitData:\n",
        "  if i not in temp:\n",
        "    temp.append(i)\n",
        "print(len(temp))"
      ],
      "execution_count": 14,
      "outputs": [
        {
          "output_type": "stream",
          "text": [
            "33014\n"
          ],
          "name": "stdout"
        }
      ]
    },
    {
      "cell_type": "code",
      "metadata": {
        "id": "l21Br1x6cjnV"
      },
      "source": [
        "data_train = []\n",
        "previous = 0\n",
        "for i in range(0,len(temp)-1,2):\n",
        "  data_train.append(' '.join(temp[previous:i]))\n",
        "  previous = i\n"
      ],
      "execution_count": 15,
      "outputs": []
    },
    {
      "cell_type": "code",
      "metadata": {
        "colab": {
          "base_uri": "https://localhost:8080/"
        },
        "id": "HqY_3mYkEEkx",
        "outputId": "f62f6435-dec3-4189-aa99-9abe767831d5"
      },
      "source": [
        "data_train[:8]"
      ],
      "execution_count": 16,
      "outputs": [
        {
          "output_type": "execute_result",
          "data": {
            "text/plain": [
              "['',\n",
              " 'deklarasi universal',\n",
              " 'hak asasi',\n",
              " 'manusia diterima',\n",
              " 'dan diumumkan',\n",
              " 'oleh majelis',\n",
              " 'umum pbb',\n",
              " 'pada tanggal']"
            ]
          },
          "metadata": {
            "tags": []
          },
          "execution_count": 16
        }
      ]
    },
    {
      "cell_type": "code",
      "metadata": {
        "id": "ryZKOLYcfB4n"
      },
      "source": [
        "tokenizer = Tokenizer(oov_token='oov')\n",
        "tokenizer.fit_on_texts(data_train)"
      ],
      "execution_count": 17,
      "outputs": []
    },
    {
      "cell_type": "code",
      "metadata": {
        "id": "ehwWjoUcfkJt"
      },
      "source": [
        "import pickle\n",
        "\n",
        "with open('/content/drive/MyDrive/Bangkit Capstone/tokenizer.pickle', 'wb') as handle:\n",
        "    pickle.dump(tokenizer, handle, protocol=pickle.HIGHEST_PROTOCOL)"
      ],
      "execution_count": 8,
      "outputs": []
    },
    {
      "cell_type": "code",
      "metadata": {
        "id": "tjSalMXUf8aD"
      },
      "source": [
        "import io,json\n",
        "\n",
        "tokenizer_json = tokenizer.to_json()\n",
        "with io.open('/content/drive/MyDrive/Bangkit Capstone/tokenizer.json', 'w', encoding='utf-8') as f:\n",
        "    f.write(json.dumps(tokenizer_json, ensure_ascii=False))"
      ],
      "execution_count": 9,
      "outputs": []
    },
    {
      "cell_type": "code",
      "metadata": {
        "id": "8WihK8kg_FCA"
      },
      "source": [
        "total_words = len(tokenizer.word_index) + 1\n",
        "\n",
        "# create input sequences using list of tokens\n",
        "input_sequences = []\n",
        "for line in data_train:\n",
        "\ttoken_list = tokenizer.texts_to_sequences([line])[0]\n",
        "\tfor i in range(1, len(token_list)):\n",
        "\t\tn_gram_sequence = token_list[:i+1]\n",
        "\t\tinput_sequences.append(n_gram_sequence)\n",
        "\n",
        "# pad sequences \n",
        "max_sequence_len = max([len(x) for x in input_sequences])\n",
        "input_sequences = np.array(pad_sequences(input_sequences, maxlen=max_sequence_len, padding='pre'))\n",
        "# create predictors and label\n",
        "predictors, label = input_sequences[:,:-1],input_sequences[:,-1]\n",
        "label = tf.keras.utils.to_categorical(label, num_classes=total_words)"
      ],
      "execution_count": 18,
      "outputs": []
    },
    {
      "cell_type": "code",
      "metadata": {
        "id": "w9vH8Y59ajYL",
        "colab": {
          "base_uri": "https://localhost:8080/"
        },
        "outputId": "8c2374f3-a5c7-4b43-e03c-8c9cdf067076"
      },
      "source": [
        "model = Sequential()\n",
        "model.add(Embedding(total_words, 250, input_length=max_sequence_len-1))\n",
        "model.add(Bidirectional(LSTM(500, return_sequences=True)))\n",
        "model.add(Bidirectional(LSTM(500)))\n",
        "model.add(Dropout(0.2))\n",
        "model.add(Dense(1000, activation=\"relu\"))\n",
        "model.add(Dense(total_words, activation='softmax'))\n",
        "model.compile(loss='categorical_crossentropy', optimizer='adam', metrics='accuracy')\n",
        "print(model.summary())"
      ],
      "execution_count": 20,
      "outputs": [
        {
          "output_type": "stream",
          "text": [
            "Model: \"sequential_1\"\n",
            "_________________________________________________________________\n",
            "Layer (type)                 Output Shape              Param #   \n",
            "=================================================================\n",
            "embedding (Embedding)        (None, 1, 250)            8253500   \n",
            "_________________________________________________________________\n",
            "bidirectional (Bidirectional (None, 1, 1000)           3004000   \n",
            "_________________________________________________________________\n",
            "bidirectional_1 (Bidirection (None, 1000)              6004000   \n",
            "_________________________________________________________________\n",
            "dropout (Dropout)            (None, 1000)              0         \n",
            "_________________________________________________________________\n",
            "dense (Dense)                (None, 1000)              1001000   \n",
            "_________________________________________________________________\n",
            "dense_1 (Dense)              (None, 33014)             33047014  \n",
            "=================================================================\n",
            "Total params: 51,309,514\n",
            "Trainable params: 51,309,514\n",
            "Non-trainable params: 0\n",
            "_________________________________________________________________\n",
            "None\n"
          ],
          "name": "stdout"
        }
      ]
    },
    {
      "cell_type": "code",
      "metadata": {
        "colab": {
          "base_uri": "https://localhost:8080/",
          "height": 661
        },
        "id": "UTVoj0q8iDI6",
        "outputId": "cda2baa5-7b57-460b-c1ac-30cc27122ed2"
      },
      "source": [
        "tf.keras.utils.plot_model(model, to_file='/content/drive/MyDrive/Bangkit Capstone/model.png', show_layer_names=True)"
      ],
      "execution_count": 21,
      "outputs": [
        {
          "output_type": "execute_result",
          "data": {
            "image/png": "[encoded data removed]",
            "text/plain": [
              "<IPython.core.display.Image object>"
            ]
          },
          "metadata": {
            "tags": []
          },
          "execution_count": 21
        }
      ]
    },
    {
      "cell_type": "code",
      "metadata": {
        "id": "8fZJ6y9GfTDk"
      },
      "source": [
        "class myCallback(tf.keras.callbacks.Callback):\n",
        "  def on_epoch_end(self, epoch, logs={}):\n",
        "    if(logs.get('accuracy')>0.98):\n",
        "      self.model.stop_training = True\n",
        "\n",
        "#checkpoint = tf.keras.callbacks.ModelCheckpoint(\"/content/drive/MyDrive/Bangkit Capstone/checkpoint/model\", monitor='loss', verbose=1,save_best_only=True, mode='auto')\n",
        "\n",
        "reduceLoss = tf.keras.callbacks.ReduceLROnPlateau(monitor='loss', factor=0.2, patience=3, min_lr=0.0001, verbose = 1)\n",
        "callbacksEarlyStopping = tf.keras.callbacks.EarlyStopping(monitor='loss', patience=5)\n",
        "preventOverfit = myCallback()"
      ],
      "execution_count": 22,
      "outputs": []
    },
    {
      "cell_type": "code",
      "metadata": {
        "id": "AIg2f1HBxqof",
        "colab": {
          "base_uri": "https://localhost:8080/"
        },
        "outputId": "81d10ae2-f960-4634-b4d8-61537256ee48"
      },
      "source": [
        "history = model.fit(predictors, label, epochs=500, batch_size=64, verbose=1, callbacks=[preventOverfit,callbacksEarlyStopping,reduceLoss])"
      ],
      "execution_count": 23,
      "outputs": [
        {
          "output_type": "stream",
          "text": [
            "Epoch 1/500\n",
            "258/258 [==============================] - 31s 56ms/step - loss: 10.4284 - accuracy: 0.0000e+00\n",
            "Epoch 2/500\n",
            "258/258 [==============================] - 14s 54ms/step - loss: 10.2949 - accuracy: 0.0000e+00\n",
            "Epoch 3/500\n",
            "258/258 [==============================] - 14s 55ms/step - loss: 9.7695 - accuracy: 0.0000e+00\n",
            "Epoch 4/500\n",
            "258/258 [==============================] - 14s 55ms/step - loss: 9.3731 - accuracy: 0.0000e+00\n",
            "Epoch 5/500\n",
            "258/258 [==============================] - 14s 54ms/step - loss: 8.7317 - accuracy: 6.0584e-04\n",
            "Epoch 6/500\n",
            "258/258 [==============================] - 14s 56ms/step - loss: 8.0982 - accuracy: 0.0027\n",
            "Epoch 7/500\n",
            "258/258 [==============================] - 14s 55ms/step - loss: 7.6199 - accuracy: 0.0065\n",
            "Epoch 8/500\n",
            "258/258 [==============================] - 14s 55ms/step - loss: 7.2047 - accuracy: 0.0163\n",
            "Epoch 9/500\n",
            "258/258 [==============================] - 14s 55ms/step - loss: 6.8436 - accuracy: 0.0257\n",
            "Epoch 10/500\n",
            "258/258 [==============================] - 14s 54ms/step - loss: 6.4984 - accuracy: 0.0455\n",
            "Epoch 11/500\n",
            "258/258 [==============================] - 14s 54ms/step - loss: 6.1679 - accuracy: 0.0699\n",
            "Epoch 12/500\n",
            "258/258 [==============================] - 14s 54ms/step - loss: 5.8383 - accuracy: 0.0945\n",
            "Epoch 13/500\n",
            "258/258 [==============================] - 14s 55ms/step - loss: 5.5432 - accuracy: 0.1303\n",
            "Epoch 14/500\n",
            "258/258 [==============================] - 14s 55ms/step - loss: 5.2603 - accuracy: 0.1687\n",
            "Epoch 15/500\n",
            "258/258 [==============================] - 14s 55ms/step - loss: 5.0023 - accuracy: 0.2016\n",
            "Epoch 16/500\n",
            "258/258 [==============================] - 14s 54ms/step - loss: 4.7540 - accuracy: 0.2381\n",
            "Epoch 17/500\n",
            "258/258 [==============================] - 14s 54ms/step - loss: 4.5271 - accuracy: 0.2801\n",
            "Epoch 18/500\n",
            "258/258 [==============================] - 14s 54ms/step - loss: 4.2969 - accuracy: 0.3160\n",
            "Epoch 19/500\n",
            "258/258 [==============================] - 14s 55ms/step - loss: 4.1010 - accuracy: 0.3458\n",
            "Epoch 20/500\n",
            "258/258 [==============================] - 14s 55ms/step - loss: 3.9228 - accuracy: 0.3726\n",
            "Epoch 21/500\n",
            "258/258 [==============================] - 14s 54ms/step - loss: 3.7507 - accuracy: 0.3968\n",
            "Epoch 22/500\n",
            "258/258 [==============================] - 14s 54ms/step - loss: 3.6013 - accuracy: 0.4205\n",
            "Epoch 23/500\n",
            "258/258 [==============================] - 14s 54ms/step - loss: 3.4781 - accuracy: 0.4435\n",
            "Epoch 24/500\n",
            "258/258 [==============================] - 14s 54ms/step - loss: 3.3468 - accuracy: 0.4630\n",
            "Epoch 25/500\n",
            "258/258 [==============================] - 14s 54ms/step - loss: 3.2548 - accuracy: 0.4766\n",
            "Epoch 26/500\n",
            "258/258 [==============================] - 14s 54ms/step - loss: 3.1515 - accuracy: 0.4928\n",
            "Epoch 27/500\n",
            "258/258 [==============================] - 14s 54ms/step - loss: 3.0521 - accuracy: 0.5102\n",
            "Epoch 28/500\n",
            "258/258 [==============================] - 14s 54ms/step - loss: 2.9670 - accuracy: 0.5239\n",
            "Epoch 29/500\n",
            "258/258 [==============================] - 14s 53ms/step - loss: 2.8778 - accuracy: 0.5437\n",
            "Epoch 30/500\n",
            "258/258 [==============================] - 14s 54ms/step - loss: 2.8003 - accuracy: 0.5499\n",
            "Epoch 31/500\n",
            "258/258 [==============================] - 14s 54ms/step - loss: 2.7227 - accuracy: 0.5666\n",
            "Epoch 32/500\n",
            "258/258 [==============================] - 14s 55ms/step - loss: 2.6529 - accuracy: 0.5765\n",
            "Epoch 33/500\n",
            "258/258 [==============================] - 14s 55ms/step - loss: 2.5860 - accuracy: 0.5858\n",
            "Epoch 34/500\n",
            "258/258 [==============================] - 14s 54ms/step - loss: 2.5420 - accuracy: 0.5941\n",
            "Epoch 35/500\n",
            "258/258 [==============================] - 14s 54ms/step - loss: 2.4826 - accuracy: 0.6033\n",
            "Epoch 36/500\n",
            "258/258 [==============================] - 14s 54ms/step - loss: 2.4288 - accuracy: 0.6097\n",
            "Epoch 37/500\n",
            "258/258 [==============================] - 14s 54ms/step - loss: 2.3806 - accuracy: 0.6150\n",
            "Epoch 38/500\n",
            "258/258 [==============================] - 14s 55ms/step - loss: 2.3280 - accuracy: 0.6232\n",
            "Epoch 39/500\n",
            "258/258 [==============================] - 14s 56ms/step - loss: 2.2731 - accuracy: 0.6321\n",
            "Epoch 40/500\n",
            "258/258 [==============================] - 14s 56ms/step - loss: 2.2317 - accuracy: 0.6390\n",
            "Epoch 41/500\n",
            "258/258 [==============================] - 14s 56ms/step - loss: 2.1792 - accuracy: 0.6478\n",
            "Epoch 42/500\n",
            "258/258 [==============================] - 14s 55ms/step - loss: 2.1409 - accuracy: 0.6558\n",
            "Epoch 43/500\n",
            "258/258 [==============================] - 14s 54ms/step - loss: 2.1015 - accuracy: 0.6622\n",
            "Epoch 44/500\n",
            "258/258 [==============================] - 14s 54ms/step - loss: 2.0628 - accuracy: 0.6672\n",
            "Epoch 45/500\n",
            "258/258 [==============================] - 14s 54ms/step - loss: 2.0194 - accuracy: 0.6755\n",
            "Epoch 46/500\n",
            "258/258 [==============================] - 14s 55ms/step - loss: 1.9809 - accuracy: 0.6827\n",
            "Epoch 47/500\n",
            "258/258 [==============================] - 14s 54ms/step - loss: 1.9428 - accuracy: 0.6899\n",
            "Epoch 48/500\n",
            "258/258 [==============================] - 14s 53ms/step - loss: 1.9145 - accuracy: 0.6944\n",
            "Epoch 49/500\n",
            "258/258 [==============================] - 14s 54ms/step - loss: 1.8864 - accuracy: 0.6971\n",
            "Epoch 50/500\n",
            "258/258 [==============================] - 14s 55ms/step - loss: 1.8542 - accuracy: 0.7024\n",
            "Epoch 51/500\n",
            "258/258 [==============================] - 14s 55ms/step - loss: 1.8325 - accuracy: 0.7059\n",
            "Epoch 52/500\n",
            "258/258 [==============================] - 14s 55ms/step - loss: 1.8121 - accuracy: 0.7060\n",
            "Epoch 53/500\n",
            "258/258 [==============================] - 14s 54ms/step - loss: 1.8036 - accuracy: 0.7094\n",
            "Epoch 54/500\n",
            "258/258 [==============================] - 14s 54ms/step - loss: 1.7696 - accuracy: 0.7130\n",
            "Epoch 55/500\n",
            "258/258 [==============================] - 14s 54ms/step - loss: 1.7442 - accuracy: 0.7162\n",
            "Epoch 56/500\n",
            "258/258 [==============================] - 17s 67ms/step - loss: 1.7177 - accuracy: 0.7242\n",
            "Epoch 57/500\n",
            "258/258 [==============================] - 17s 66ms/step - loss: 1.6887 - accuracy: 0.7246\n",
            "Epoch 58/500\n",
            "258/258 [==============================] - 17s 67ms/step - loss: 1.6694 - accuracy: 0.7298\n",
            "Epoch 59/500\n",
            "258/258 [==============================] - 18s 69ms/step - loss: 1.6564 - accuracy: 0.7305\n",
            "Epoch 60/500\n",
            "258/258 [==============================] - 17s 66ms/step - loss: 1.6280 - accuracy: 0.7372\n",
            "Epoch 61/500\n",
            "258/258 [==============================] - 17s 67ms/step - loss: 1.5924 - accuracy: 0.7406\n",
            "Epoch 62/500\n",
            "258/258 [==============================] - 17s 66ms/step - loss: 1.5771 - accuracy: 0.7447\n",
            "Epoch 63/500\n",
            "258/258 [==============================] - 17s 66ms/step - loss: 1.5532 - accuracy: 0.7477\n",
            "Epoch 64/500\n",
            "258/258 [==============================] - 18s 69ms/step - loss: 1.5229 - accuracy: 0.7543\n",
            "Epoch 65/500\n",
            "258/258 [==============================] - 17s 66ms/step - loss: 1.5108 - accuracy: 0.7548\n",
            "Epoch 66/500\n",
            "258/258 [==============================] - 17s 66ms/step - loss: 1.4858 - accuracy: 0.7611\n",
            "Epoch 67/500\n",
            "258/258 [==============================] - 17s 68ms/step - loss: 1.4566 - accuracy: 0.7642\n",
            "Epoch 68/500\n",
            "258/258 [==============================] - 17s 67ms/step - loss: 1.4335 - accuracy: 0.7711\n",
            "Epoch 69/500\n",
            "258/258 [==============================] - 17s 68ms/step - loss: 1.4208 - accuracy: 0.7744\n",
            "Epoch 70/500\n",
            "258/258 [==============================] - 17s 66ms/step - loss: 1.3980 - accuracy: 0.7737\n",
            "Epoch 71/500\n",
            "258/258 [==============================] - 18s 68ms/step - loss: 1.3827 - accuracy: 0.7774\n",
            "Epoch 72/500\n",
            "258/258 [==============================] - 17s 66ms/step - loss: 1.3721 - accuracy: 0.7789\n",
            "Epoch 73/500\n",
            "258/258 [==============================] - 18s 68ms/step - loss: 1.3562 - accuracy: 0.7843\n",
            "Epoch 74/500\n",
            "258/258 [==============================] - 17s 67ms/step - loss: 1.3430 - accuracy: 0.7846\n",
            "Epoch 75/500\n",
            "258/258 [==============================] - 17s 68ms/step - loss: 1.3354 - accuracy: 0.7867\n",
            "Epoch 76/500\n",
            "258/258 [==============================] - 18s 71ms/step - loss: 1.3025 - accuracy: 0.7900\n",
            "Epoch 77/500\n",
            "258/258 [==============================] - 17s 67ms/step - loss: 1.2827 - accuracy: 0.7931\n",
            "Epoch 78/500\n",
            "258/258 [==============================] - 17s 66ms/step - loss: 1.2650 - accuracy: 0.7974\n",
            "Epoch 79/500\n",
            "258/258 [==============================] - 17s 66ms/step - loss: 1.2242 - accuracy: 0.8029\n",
            "Epoch 80/500\n",
            "258/258 [==============================] - 18s 68ms/step - loss: 1.1991 - accuracy: 0.8072\n",
            "Epoch 81/500\n",
            "258/258 [==============================] - 17s 66ms/step - loss: 1.1743 - accuracy: 0.8116\n",
            "Epoch 82/500\n",
            "258/258 [==============================] - 17s 64ms/step - loss: 1.1698 - accuracy: 0.8116\n",
            "Epoch 83/500\n",
            "258/258 [==============================] - 17s 66ms/step - loss: 1.1529 - accuracy: 0.8153\n",
            "Epoch 84/500\n",
            "258/258 [==============================] - 17s 66ms/step - loss: 1.1336 - accuracy: 0.8171\n",
            "Epoch 85/500\n",
            "258/258 [==============================] - 17s 67ms/step - loss: 1.1170 - accuracy: 0.8210\n",
            "Epoch 86/500\n",
            "258/258 [==============================] - 17s 67ms/step - loss: 1.0932 - accuracy: 0.8241\n",
            "Epoch 87/500\n",
            "258/258 [==============================] - 17s 67ms/step - loss: 1.0984 - accuracy: 0.8230\n",
            "Epoch 88/500\n",
            "258/258 [==============================] - 17s 67ms/step - loss: 1.0728 - accuracy: 0.8277\n",
            "Epoch 89/500\n",
            "258/258 [==============================] - 17s 67ms/step - loss: 1.0633 - accuracy: 0.8295\n",
            "Epoch 90/500\n",
            "258/258 [==============================] - 17s 65ms/step - loss: 1.0387 - accuracy: 0.8308\n",
            "Epoch 91/500\n",
            "258/258 [==============================] - 18s 68ms/step - loss: 1.0339 - accuracy: 0.8323\n",
            "Epoch 92/500\n",
            "258/258 [==============================] - 18s 70ms/step - loss: 1.0106 - accuracy: 0.8361\n",
            "Epoch 93/500\n",
            "258/258 [==============================] - 17s 66ms/step - loss: 0.9966 - accuracy: 0.8367\n",
            "Epoch 94/500\n",
            "258/258 [==============================] - 18s 69ms/step - loss: 0.9876 - accuracy: 0.8367\n",
            "Epoch 95/500\n",
            "258/258 [==============================] - 17s 66ms/step - loss: 0.9735 - accuracy: 0.8376\n",
            "Epoch 96/500\n",
            "258/258 [==============================] - 17s 66ms/step - loss: 0.9642 - accuracy: 0.8410\n",
            "Epoch 97/500\n",
            "258/258 [==============================] - 17s 66ms/step - loss: 0.9410 - accuracy: 0.8426\n",
            "Epoch 98/500\n",
            "258/258 [==============================] - 17s 68ms/step - loss: 0.9272 - accuracy: 0.8438\n",
            "Epoch 99/500\n",
            "258/258 [==============================] - 18s 68ms/step - loss: 0.9117 - accuracy: 0.8452\n",
            "Epoch 100/500\n",
            "258/258 [==============================] - 18s 69ms/step - loss: 0.8930 - accuracy: 0.8484\n",
            "Epoch 101/500\n",
            "258/258 [==============================] - 17s 68ms/step - loss: 0.8615 - accuracy: 0.8538\n",
            "Epoch 102/500\n",
            "258/258 [==============================] - 17s 65ms/step - loss: 0.8531 - accuracy: 0.8561\n",
            "Epoch 103/500\n",
            "258/258 [==============================] - 17s 65ms/step - loss: 0.8368 - accuracy: 0.8588\n",
            "Epoch 104/500\n",
            "258/258 [==============================] - 17s 65ms/step - loss: 0.8224 - accuracy: 0.8611\n",
            "Epoch 105/500\n",
            "258/258 [==============================] - 17s 65ms/step - loss: 0.8171 - accuracy: 0.8615\n",
            "Epoch 106/500\n",
            "258/258 [==============================] - 18s 69ms/step - loss: 0.8046 - accuracy: 0.8623\n",
            "Epoch 107/500\n",
            "258/258 [==============================] - 17s 67ms/step - loss: 0.7877 - accuracy: 0.8648\n",
            "Epoch 108/500\n",
            "258/258 [==============================] - 17s 65ms/step - loss: 0.7751 - accuracy: 0.8676\n",
            "Epoch 109/500\n",
            "258/258 [==============================] - 18s 69ms/step - loss: 0.7604 - accuracy: 0.8686\n",
            "Epoch 110/500\n",
            "258/258 [==============================] - 17s 67ms/step - loss: 0.7411 - accuracy: 0.8729\n",
            "Epoch 111/500\n",
            "258/258 [==============================] - 17s 66ms/step - loss: 0.7294 - accuracy: 0.8741\n",
            "Epoch 112/500\n",
            "258/258 [==============================] - 17s 66ms/step - loss: 0.7266 - accuracy: 0.8714\n",
            "Epoch 113/500\n",
            "258/258 [==============================] - 18s 70ms/step - loss: 0.7101 - accuracy: 0.8749\n",
            "Epoch 114/500\n",
            "258/258 [==============================] - 17s 67ms/step - loss: 0.6911 - accuracy: 0.8785\n",
            "Epoch 115/500\n",
            "258/258 [==============================] - 17s 68ms/step - loss: 0.6852 - accuracy: 0.8790\n",
            "Epoch 116/500\n",
            "258/258 [==============================] - 18s 69ms/step - loss: 0.6669 - accuracy: 0.8813\n",
            "Epoch 117/500\n",
            "258/258 [==============================] - 18s 70ms/step - loss: 0.6440 - accuracy: 0.8848\n",
            "Epoch 118/500\n",
            "258/258 [==============================] - 17s 68ms/step - loss: 0.6343 - accuracy: 0.8854\n",
            "Epoch 119/500\n",
            "258/258 [==============================] - 17s 66ms/step - loss: 0.6171 - accuracy: 0.8891\n",
            "Epoch 120/500\n",
            "258/258 [==============================] - 18s 69ms/step - loss: 0.5948 - accuracy: 0.8922\n",
            "Epoch 121/500\n",
            "258/258 [==============================] - 18s 70ms/step - loss: 0.5778 - accuracy: 0.8943\n",
            "Epoch 122/500\n",
            "258/258 [==============================] - 17s 67ms/step - loss: 0.5680 - accuracy: 0.8963\n",
            "Epoch 123/500\n",
            "258/258 [==============================] - 17s 67ms/step - loss: 0.5598 - accuracy: 0.8977\n",
            "Epoch 124/500\n",
            "258/258 [==============================] - 18s 70ms/step - loss: 0.5408 - accuracy: 0.9021\n",
            "Epoch 125/500\n",
            "258/258 [==============================] - 18s 69ms/step - loss: 0.5255 - accuracy: 0.9035\n",
            "Epoch 126/500\n",
            "258/258 [==============================] - 18s 68ms/step - loss: 0.5103 - accuracy: 0.9065\n",
            "Epoch 127/500\n",
            "258/258 [==============================] - 17s 66ms/step - loss: 0.4996 - accuracy: 0.9085\n",
            "Epoch 128/500\n",
            "258/258 [==============================] - 18s 70ms/step - loss: 0.4874 - accuracy: 0.9114\n",
            "Epoch 129/500\n",
            "258/258 [==============================] - 17s 66ms/step - loss: 0.4855 - accuracy: 0.9106\n",
            "Epoch 130/500\n",
            "258/258 [==============================] - 17s 66ms/step - loss: 0.4713 - accuracy: 0.9132\n",
            "Epoch 131/500\n",
            "258/258 [==============================] - 18s 69ms/step - loss: 0.4628 - accuracy: 0.9136\n",
            "Epoch 132/500\n",
            "258/258 [==============================] - 17s 67ms/step - loss: 0.4471 - accuracy: 0.9175\n",
            "Epoch 133/500\n",
            "258/258 [==============================] - 17s 68ms/step - loss: 0.4417 - accuracy: 0.9186\n",
            "Epoch 134/500\n",
            "258/258 [==============================] - 17s 67ms/step - loss: 0.4264 - accuracy: 0.9206\n",
            "Epoch 135/500\n",
            "258/258 [==============================] - 17s 66ms/step - loss: 0.4222 - accuracy: 0.9212\n",
            "Epoch 136/500\n",
            "258/258 [==============================] - 18s 69ms/step - loss: 0.4146 - accuracy: 0.9214\n",
            "Epoch 137/500\n",
            "258/258 [==============================] - 17s 68ms/step - loss: 0.4162 - accuracy: 0.9212\n",
            "Epoch 138/500\n",
            "258/258 [==============================] - 17s 66ms/step - loss: 0.4092 - accuracy: 0.9225\n",
            "Epoch 139/500\n",
            "258/258 [==============================] - 17s 66ms/step - loss: 0.4069 - accuracy: 0.9216\n",
            "Epoch 140/500\n",
            "258/258 [==============================] - 17s 68ms/step - loss: 0.3946 - accuracy: 0.9219\n",
            "Epoch 141/500\n",
            "258/258 [==============================] - 17s 66ms/step - loss: 0.3902 - accuracy: 0.9247\n",
            "Epoch 142/500\n",
            "258/258 [==============================] - 17s 67ms/step - loss: 0.3761 - accuracy: 0.9247\n",
            "Epoch 143/500\n",
            "258/258 [==============================] - 17s 67ms/step - loss: 0.3529 - accuracy: 0.9305\n",
            "Epoch 144/500\n",
            "258/258 [==============================] - 17s 67ms/step - loss: 0.3416 - accuracy: 0.9333\n",
            "Epoch 145/500\n",
            "258/258 [==============================] - 17s 66ms/step - loss: 0.3332 - accuracy: 0.9362\n",
            "Epoch 146/500\n",
            "258/258 [==============================] - 17s 67ms/step - loss: 0.3207 - accuracy: 0.9364\n",
            "Epoch 147/500\n",
            "258/258 [==============================] - 17s 68ms/step - loss: 0.3200 - accuracy: 0.9357\n",
            "Epoch 148/500\n",
            "258/258 [==============================] - 17s 66ms/step - loss: 0.3163 - accuracy: 0.9351\n",
            "Epoch 149/500\n",
            "258/258 [==============================] - 17s 66ms/step - loss: 0.3115 - accuracy: 0.9366\n",
            "Epoch 150/500\n",
            "258/258 [==============================] - 17s 67ms/step - loss: 0.3053 - accuracy: 0.9371\n",
            "Epoch 151/500\n",
            "258/258 [==============================] - 18s 68ms/step - loss: 0.3025 - accuracy: 0.9368\n",
            "Epoch 152/500\n",
            "258/258 [==============================] - 17s 67ms/step - loss: 0.2846 - accuracy: 0.9389\n",
            "Epoch 153/500\n",
            "258/258 [==============================] - 17s 66ms/step - loss: 0.2729 - accuracy: 0.9423\n",
            "Epoch 154/500\n",
            "258/258 [==============================] - 17s 67ms/step - loss: 0.2598 - accuracy: 0.9415\n",
            "Epoch 155/500\n",
            "258/258 [==============================] - 17s 65ms/step - loss: 0.2469 - accuracy: 0.9455\n",
            "Epoch 156/500\n",
            "258/258 [==============================] - 18s 68ms/step - loss: 0.2453 - accuracy: 0.9469\n",
            "Epoch 157/500\n",
            "258/258 [==============================] - 18s 71ms/step - loss: 0.2383 - accuracy: 0.9478\n",
            "Epoch 158/500\n",
            "258/258 [==============================] - 17s 67ms/step - loss: 0.2244 - accuracy: 0.9484\n",
            "Epoch 159/500\n",
            "258/258 [==============================] - 18s 68ms/step - loss: 0.2234 - accuracy: 0.9493\n",
            "Epoch 160/500\n",
            "258/258 [==============================] - 17s 65ms/step - loss: 0.2109 - accuracy: 0.9508\n",
            "Epoch 161/500\n",
            "258/258 [==============================] - 17s 67ms/step - loss: 0.1966 - accuracy: 0.9534\n",
            "Epoch 162/500\n",
            "258/258 [==============================] - 17s 66ms/step - loss: 0.1838 - accuracy: 0.9563\n",
            "Epoch 163/500\n",
            "258/258 [==============================] - 17s 66ms/step - loss: 0.1798 - accuracy: 0.9576\n",
            "Epoch 164/500\n",
            "258/258 [==============================] - 18s 69ms/step - loss: 0.1676 - accuracy: 0.9592\n",
            "Epoch 165/500\n",
            "258/258 [==============================] - 18s 69ms/step - loss: 0.1618 - accuracy: 0.9598\n",
            "Epoch 166/500\n",
            "258/258 [==============================] - 17s 67ms/step - loss: 0.1524 - accuracy: 0.9616\n",
            "Epoch 167/500\n",
            "258/258 [==============================] - 17s 65ms/step - loss: 0.1486 - accuracy: 0.9625\n",
            "Epoch 168/500\n",
            "258/258 [==============================] - 17s 67ms/step - loss: 0.1563 - accuracy: 0.9600\n",
            "Epoch 169/500\n",
            "258/258 [==============================] - 17s 67ms/step - loss: 0.1435 - accuracy: 0.9634\n",
            "Epoch 170/500\n",
            "258/258 [==============================] - 17s 66ms/step - loss: 0.1369 - accuracy: 0.9651\n",
            "Epoch 171/500\n",
            "258/258 [==============================] - 17s 65ms/step - loss: 0.1249 - accuracy: 0.9677\n",
            "Epoch 172/500\n",
            "258/258 [==============================] - 17s 67ms/step - loss: 0.1239 - accuracy: 0.9675\n",
            "Epoch 173/500\n",
            "258/258 [==============================] - 17s 66ms/step - loss: 0.1078 - accuracy: 0.9708\n",
            "Epoch 174/500\n",
            "258/258 [==============================] - 17s 68ms/step - loss: 0.1038 - accuracy: 0.9730\n",
            "Epoch 175/500\n",
            "258/258 [==============================] - 17s 67ms/step - loss: 0.0982 - accuracy: 0.9750\n",
            "Epoch 176/500\n",
            "258/258 [==============================] - 17s 67ms/step - loss: 0.0879 - accuracy: 0.9759\n",
            "Epoch 177/500\n",
            "258/258 [==============================] - 18s 68ms/step - loss: 0.0954 - accuracy: 0.9753\n",
            "Epoch 178/500\n",
            "258/258 [==============================] - 18s 69ms/step - loss: 0.0878 - accuracy: 0.9761\n",
            "Epoch 179/500\n",
            "258/258 [==============================] - 17s 66ms/step - loss: 0.0733 - accuracy: 0.9802\n"
          ],
          "name": "stdout"
        }
      ]
    },
    {
      "cell_type": "code",
      "metadata": {
        "id": "1fXTEO3GJ282",
        "colab": {
          "base_uri": "https://localhost:8080/",
          "height": 545
        },
        "outputId": "da9a602e-fcc6-49f0-9050-36c329dc8192"
      },
      "source": [
        "import matplotlib.pyplot as plt\n",
        "acc = history.history['accuracy']\n",
        "loss = history.history['loss']\n",
        "\n",
        "epochs = range(len(acc))\n",
        "\n",
        "plt.plot(epochs, acc, 'b', label='Training accuracy')\n",
        "plt.title('Training accuracy')\n",
        "\n",
        "plt.figure()\n",
        "\n",
        "plt.plot(epochs, loss, 'b', label='Training Loss')\n",
        "plt.title('Training loss')\n",
        "\n",
        "\n",
        "plt.show()"
      ],
      "execution_count": 24,
      "outputs": [
        {
          "output_type": "display_data",
          "data": {
            "image/png": "[encoded data removed]",
            "text/plain": [
              "<Figure size 432x288 with 1 Axes>"
            ]
          },
          "metadata": {
            "tags": [],
            "needs_background": "light"
          }
        },
        {
          "output_type": "display_data",
          "data": {
            "image/png": "[encoded data removed]",
            "text/plain": [
              "<Figure size 432x288 with 1 Axes>"
            ]
          },
          "metadata": {
            "tags": [],
            "needs_background": "light"
          }
        }
      ]
    },
    {
      "cell_type": "code",
      "metadata": {
        "id": "6Vc6PHgxa6Hm",
        "colab": {
          "base_uri": "https://localhost:8080/"
        },
        "outputId": "a4bcbd64-1b36-46ca-91a4-1939782ebd26"
      },
      "source": [
        "text = \"bentuk\"\n",
        "print('input: '+text)\n",
        "print('nomor itu accuracy')\n",
        "\n",
        "token_list = tokenizer.texts_to_sequences([text])[0]\n",
        "token_list = pad_sequences([token_list], maxlen=max_sequence_len - 1, padding='pre')\n",
        "\n",
        "predictions = model.predict(token_list)\n",
        "\n",
        "indices = np.argpartition(predictions, -10)[0][-10:]\n",
        "\n",
        "results = {}\n",
        "for index in indices:\n",
        "  key = [k for (k, v) in tokenizer.word_index.items() if v == index]\n",
        "  results.update({key[0]: predictions[0, index]})\n",
        "\n",
        "  results = {k: v for k, v in sorted(results.items(), key=lambda item: item[1], reverse=True)}\n",
        "\n",
        "print(\"{}\".format(results))\n",
        "for i in results:\n",
        "  print(text+\" \"+i)"
      ],
      "execution_count": 25,
      "outputs": [
        {
          "output_type": "stream",
          "text": [
            "input: bentuk\n",
            "nomor itu accuracy\n",
            "{'mesti': 0.99967134, '655barangsiapa': 0.00030759815, 'tersebutjika': 1.485445e-05, 'secaratidak': 4.5887923e-06, 'lanjuti': 3.2407465e-07, 'kuasaannya': 2.360026e-07, '815hak': 1.8062396e-07, 'kapalpasal': 1.6093489e-07, 'keuntunganapa': 1.5516446e-07, 'penggulingan': 1.0209996e-07}\n",
            "bentuk mesti\n",
            "bentuk 655barangsiapa\n",
            "bentuk tersebutjika\n",
            "bentuk secaratidak\n",
            "bentuk lanjuti\n",
            "bentuk kuasaannya\n",
            "bentuk 815hak\n",
            "bentuk kapalpasal\n",
            "bentuk keuntunganapa\n",
            "bentuk penggulingan\n"
          ],
          "name": "stdout"
        }
      ]
    },
    {
      "cell_type": "code",
      "metadata": {
        "colab": {
          "base_uri": "https://localhost:8080/"
        },
        "id": "I7mM_ztYyVfm",
        "outputId": "a1f4717d-94b7-4f51-b306-221f5587693b"
      },
      "source": [
        "model.save('/content/model/saved_prototype_model/my_model')"
      ],
      "execution_count": 26,
      "outputs": [
        {
          "output_type": "stream",
          "text": [
            "WARNING:absl:Found untraced functions such as lstm_cell_1_layer_call_and_return_conditional_losses, lstm_cell_1_layer_call_fn, lstm_cell_2_layer_call_and_return_conditional_losses, lstm_cell_2_layer_call_fn, lstm_cell_4_layer_call_and_return_conditional_losses while saving (showing 5 of 20). These functions will not be directly callable after loading.\n"
          ],
          "name": "stderr"
        },
        {
          "output_type": "stream",
          "text": [
            "INFO:tensorflow:Assets written to: /content/model/saved_prototype_model/my_model/assets\n"
          ],
          "name": "stdout"
        },
        {
          "output_type": "stream",
          "text": [
            "INFO:tensorflow:Assets written to: /content/model/saved_prototype_model/my_model/assets\n"
          ],
          "name": "stderr"
        }
      ]
    },
    {
      "cell_type": "code",
      "metadata": {
        "id": "ojrV_gqHy958"
      },
      "source": [
        "model.save('/content/model/saved_prototype_model_HDF5/my_model.h5')"
      ],
      "execution_count": 27,
      "outputs": []
    },
    {
      "cell_type": "code",
      "metadata": {
        "id": "o4F_LDFZ1HSV"
      },
      "source": [
        "import pathlib"
      ],
      "execution_count": 28,
      "outputs": []
    },
    {
      "cell_type": "code",
      "metadata": {
        "id": "AsYRWkBtzkc1"
      },
      "source": [
        "converter = tf.lite.TFLiteConverter.from_saved_model('/content/model/saved_prototype_model/my_model')\n",
        "converter.optimizations = [tf.lite.Optimize.OPTIMIZE_FOR_SIZE]\n",
        "tflite_model = converter.convert()"
      ],
      "execution_count": 29,
      "outputs": []
    },
    {
      "cell_type": "code",
      "metadata": {
        "colab": {
          "base_uri": "https://localhost:8080/"
        },
        "id": "5-89WmXv0oRL",
        "outputId": "cfc98820-deb0-423c-9d37-685912819987"
      },
      "source": [
        "tflite_model_file = pathlib.Path('./model/modelSizeOptimize.tflite')\n",
        "tflite_model_file.write_bytes(tflite_model)"
      ],
      "execution_count": 30,
      "outputs": [
        {
          "output_type": "execute_result",
          "data": {
            "text/plain": [
              "51506528"
            ]
          },
          "metadata": {
            "tags": []
          },
          "execution_count": 30
        }
      ]
    },
    {
      "cell_type": "code",
      "metadata": {
        "colab": {
          "base_uri": "https://localhost:8080/"
        },
        "id": "TUbbILxr1fFl",
        "outputId": "3fbeccf1-7227-4d7c-ff27-21fde6c24c36"
      },
      "source": [
        "converter.optimizations = [tf.lite.Optimize.OPTIMIZE_FOR_LATENCY]\n",
        "tflite_model = converter.convert()\n",
        "tflite_model_file = pathlib.Path('./model/modelLatencyOptimize.tflite')\n",
        "tflite_model_file.write_bytes(tflite_model)"
      ],
      "execution_count": 31,
      "outputs": [
        {
          "output_type": "execute_result",
          "data": {
            "text/plain": [
              "51506528"
            ]
          },
          "metadata": {
            "tags": []
          },
          "execution_count": 31
        }
      ]
    },
    {
      "cell_type": "code",
      "metadata": {
        "colab": {
          "base_uri": "https://localhost:8080/"
        },
        "id": "sTdAybrB19TX",
        "outputId": "1c7209ac-f15a-4133-9308-5eba647013d3"
      },
      "source": [
        "converter.optimizations = [tf.lite.Optimize.DEFAULT]\n",
        "tflite_model = converter.convert()\n",
        "tflite_model_file = pathlib.Path('./model/modelDefaultOptimize.tflite')\n",
        "tflite_model_file.write_bytes(tflite_model)"
      ],
      "execution_count": 32,
      "outputs": [
        {
          "output_type": "execute_result",
          "data": {
            "text/plain": [
              "51506528"
            ]
          },
          "metadata": {
            "tags": []
          },
          "execution_count": 32
        }
      ]
    },
    {
      "cell_type": "code",
      "metadata": {
        "colab": {
          "base_uri": "https://localhost:8080/"
        },
        "id": "eVpIP0f-2Z_k",
        "outputId": "e17a3167-8226-4834-bb22-9c2f6cb6cb41"
      },
      "source": [
        "!zip -r /content/Model.zip /content/model"
      ],
      "execution_count": 33,
      "outputs": [
        {
          "output_type": "stream",
          "text": [
            "  adding: content/model/ (stored 0%)\n",
            "  adding: content/model/modelSizeOptimize.tflite (deflated 51%)\n",
            "  adding: content/model/modelLatencyOptimize.tflite (deflated 51%)\n",
            "  adding: content/model/modelDefaultOptimize.tflite (deflated 51%)\n",
            "  adding: content/model/saved_prototype_model/ (stored 0%)\n",
            "  adding: content/model/saved_prototype_model/my_model/ (stored 0%)\n",
            "  adding: content/model/saved_prototype_model/my_model/variables/ (stored 0%)\n",
            "  adding: content/model/saved_prototype_model/my_model/variables/variables.data-00000-of-00001 (deflated 25%)\n",
            "  adding: content/model/saved_prototype_model/my_model/variables/variables.index (deflated 69%)\n",
            "  adding: content/model/saved_prototype_model/my_model/assets/ (stored 0%)\n",
            "  adding: content/model/saved_prototype_model/my_model/keras_metadata.pb (deflated 92%)\n",
            "  adding: content/model/saved_prototype_model/my_model/saved_model.pb (deflated 91%)\n",
            "  adding: content/model/saved_prototype_model_HDF5/ (stored 0%)\n",
            "  adding: content/model/saved_prototype_model_HDF5/my_model.h5 (deflated 25%)\n"
          ],
          "name": "stdout"
        }
      ]
    }
  ]
}